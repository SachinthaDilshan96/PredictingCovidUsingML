{
 "cells": [
  {
   "cell_type": "code",
   "execution_count": null,
   "id": "94b84674",
   "metadata": {},
   "outputs": [],
   "source": [
    "import pandas as pd\n",
    "from sklearn.model_selection import train_test_split\n",
    "import matplotlib.pyplot as plt\n",
    "import seaborn as sns\n",
    "%matplotlib inline  "
   ]
  },
  {
   "cell_type": "code",
   "execution_count": null,
   "id": "fb98e440",
   "metadata": {},
   "outputs": [],
   "source": [
    "data=pd.read_csv(\"Covid Dataset.csv\")"
   ]
  },
  {
   "cell_type": "code",
   "execution_count": null,
   "id": "588728f9",
   "metadata": {},
   "outputs": [],
   "source": [
    "data"
   ]
  },
  {
   "cell_type": "code",
   "execution_count": null,
   "id": "0d59ba52",
   "metadata": {},
   "outputs": [],
   "source": [
    "#check for missing values\n",
    "data.isna().sum()"
   ]
  },
  {
   "cell_type": "code",
   "execution_count": null,
   "id": "0bb5bdca",
   "metadata": {},
   "outputs": [],
   "source": [
    "#separte the Features and Target variable\n",
    "X=data.iloc[:,0:21]\n",
    "Y=data.iloc[:,21:22]"
   ]
  },
  {
   "cell_type": "code",
   "execution_count": null,
   "id": "59228028",
   "metadata": {},
   "outputs": [],
   "source": [
    "#split the dataset into train and test sets\n",
    "x,xtest,y,ytest=train_test_split(X,Y,train_size=0.8)"
   ]
  },
  {
   "cell_type": "markdown",
   "id": "eb4ec8ac",
   "metadata": {},
   "source": [
    "\n",
    "# Exploratory Analysis"
   ]
  },
  {
   "cell_type": "code",
   "execution_count": null,
   "id": "ec8390a6",
   "metadata": {},
   "outputs": [],
   "source": [
    "def barPerc(df,xVar,ax):\n",
    "    numX=len([x for x in df[xVar].unique() if x==x])\n",
    "    bars = ax.patches\n",
    "    for ind in range(numX):\n",
    "       \n",
    "        hueBars=bars[ind:][::numX]\n",
    "      \n",
    "        total = sum([x.get_height() for x in hueBars])\n",
    "\n",
    "       \n",
    "        for bar in hueBars:\n",
    "            ax.text(bar.get_x() + bar.get_width()/2.,\n",
    "                    bar.get_height(),\n",
    "                    f'{bar.get_height()/total:.0%}',\n",
    "                    ha=\"center\",va=\"bottom\")\n"
   ]
  },
  {
   "cell_type": "code",
   "execution_count": null,
   "id": "ee8ff5e6",
   "metadata": {},
   "outputs": [],
   "source": [
    "sns.countplot(x='COVID-19',data=data)\n"
   ]
  },
  {
   "cell_type": "code",
   "execution_count": null,
   "id": "63659f23",
   "metadata": {},
   "outputs": [],
   "source": [
    "data['COVID-19'].value_counts()"
   ]
  },
  {
   "cell_type": "code",
   "execution_count": null,
   "id": "5d774aa0",
   "metadata": {},
   "outputs": [],
   "source": [
    "x.columns"
   ]
  },
  {
   "cell_type": "code",
   "execution_count": null,
   "id": "60061113",
   "metadata": {},
   "outputs": [],
   "source": [
    "\n",
    "#plt.rcParams.update({'figure.figsize':(7.5,5), 'figure.dpi':100})  \n",
    "fig, axs = plt.subplots(1, 5, figsize=(21, 4))\n",
    "sns.countplot(ax=axs[0],x='Breathing Problem',hue='Dry Cough',data=x)\n",
    "barPerc(x,'Breathing Problem',axs[0])\n",
    "sns.countplot(ax=axs[1],x='Breathing Problem',hue='Sore throat',data=x)\n",
    "barPerc(x,'Breathing Problem',axs[1])\n",
    "sns.countplot(ax=axs[2],x='Breathing Problem',hue='Running Nose',data=x)\n",
    "barPerc(x,'Breathing Problem',axs[2])\n",
    "sns.countplot(ax=axs[3],x='Breathing Problem',hue='Asthma',data=x)\n",
    "barPerc(x,'Breathing Problem',axs[3])\n",
    "sns.countplot(ax=axs[4],x='Breathing Problem',hue='Chronic Lung Disease',data=x)\n",
    "barPerc(x,'Breathing Problem',axs[4])\n",
    "\n",
    "\n"
   ]
  },
  {
   "cell_type": "code",
   "execution_count": null,
   "id": "78ec46af",
   "metadata": {},
   "outputs": [],
   "source": [
    "fig, axs = plt.subplots(3, 2, figsize=(17, 14))\n",
    "sns.countplot(ax=axs[0][0],x='Chronic Lung Disease',hue='Dry Cough',data=x)\n",
    "barPerc(x,'Chronic Lung Disease',axs[0][0])\n",
    "\n",
    "sns.countplot(ax=axs[0][1],x='Chronic Lung Disease',hue='Breathing Problem',data=x)\n",
    "barPerc(x,'Chronic Lung Disease',axs[0][1])\n",
    "\n",
    "sns.countplot(ax=axs[1][0],x='Chronic Lung Disease',hue='Fever',data=x)\n",
    "barPerc(x,'Chronic Lung Disease',axs[1][0])\n",
    "\n",
    "sns.countplot(ax=axs[1][1],x='Chronic Lung Disease',hue='Sore throat',data=x)\n",
    "barPerc(x,'Chronic Lung Disease',axs[1][1])\n",
    "\n",
    "sns.countplot(ax=axs[2][0],x='Chronic Lung Disease',hue='Fatigue ',data=x)\n",
    "barPerc(x,'Chronic Lung Disease',axs[2][0])\n",
    "\n",
    "sns.countplot(ax=axs[2][1],x='Chronic Lung Disease',hue='Running Nose',data=x)\n",
    "barPerc(x,'Chronic Lung Disease',axs[2][1])\n"
   ]
  },
  {
   "cell_type": "code",
   "execution_count": null,
   "id": "80407b76",
   "metadata": {},
   "outputs": [],
   "source": [
    "fig, axs = plt.subplots(3, 2, figsize=(15, 15))\n",
    "sns.countplot(ax=axs[0][0],x='Asthma',hue='Dry Cough',data=x)\n",
    "barPerc(x,'Asthma',axs[0][0])\n",
    "\n",
    "sns.countplot(ax=axs[0][1],x='Asthma',hue='Breathing Problem',data=x)\n",
    "barPerc(x,'Asthma',axs[0][1])\n",
    "\n",
    "sns.countplot(ax=axs[1][0],x='Asthma',hue='Fever',data=x)\n",
    "barPerc(x,'Asthma',axs[1][0])\n",
    "\n",
    "sns.countplot(ax=axs[1][1],x='Asthma',hue='Sore throat',data=x)\n",
    "barPerc(x,'Asthma',axs[1][1])\n",
    "\n",
    "sns.countplot(ax=axs[2][0],x='Asthma',hue='Fatigue ',data=x)\n",
    "barPerc(x,'Asthma',axs[2][0])\n",
    "\n",
    "sns.countplot(ax=axs[2][1],x='Asthma',hue='Running Nose',data=x)\n",
    "barPerc(x,'Asthma',axs[2][1])"
   ]
  },
  {
   "cell_type": "code",
   "execution_count": null,
   "id": "42b8605f",
   "metadata": {},
   "outputs": [],
   "source": [
    "fig, axs = plt.subplots(1, 2, figsize=(12, 5))\n",
    "sns.countplot(ax=axs[0],x='Fever',hue='Headache',data=x)\n",
    "barPerc(x,'Fever',axs[0])\n",
    "sns.countplot(ax=axs[1],x='Chronic Lung Disease',hue='Fever',data=x)\n",
    "barPerc(x,'Chronic Lung Disease',axs[1])\n"
   ]
  },
  {
   "cell_type": "code",
   "execution_count": null,
   "id": "9c13ea6f",
   "metadata": {},
   "outputs": [],
   "source": [
    "fig, axs = plt.subplots(1, 3, figsize=(12, 5))\n",
    "sns.countplot(ax=axs[0],x='Heart Disease',hue='Hyper Tension',data=x)\n",
    "barPerc(x,'Heart Disease',axs[0])\n",
    "sns.countplot(ax=axs[1],x='Heart Disease',hue='Fever',data=x)\n",
    "barPerc(x,'Heart Disease',axs[1])\n",
    "\n",
    "sns.countplot(ax=axs[2],x='Heart Disease',hue='Fatigue ',data=x)\n",
    "barPerc(x,'Heart Disease',axs[2])\n"
   ]
  },
  {
   "cell_type": "code",
   "execution_count": null,
   "id": "bf477754",
   "metadata": {},
   "outputs": [],
   "source": [
    "fig, axs = plt.subplots(1, 3, figsize=(20, 5))\n",
    "sns.countplot(ax=axs[0],x='Abroad travel',hue='Attended Large Gathering',data=x)\n",
    "barPerc(x,'Abroad travel',axs[0])\n",
    "sns.countplot(ax=axs[1],x='Abroad travel',hue='Visited Public Exposed Places',data=x)\n",
    "barPerc(x,'Abroad travel',axs[1])\n",
    "sns.countplot(ax=axs[2],x='Abroad travel',hue='Family working in Public Exposed Places',data=x)\n",
    "barPerc(x,'Abroad travel',axs[2])\n",
    "plt.legend(loc='upper right', title='Family working in Public\\n Exposed Places')\n",
    "\n"
   ]
  },
  {
   "cell_type": "code",
   "execution_count": null,
   "id": "6f5ed40b",
   "metadata": {},
   "outputs": [],
   "source": [
    "fig, axs = plt.subplots(1, 3, figsize=(20, 5))\n",
    "sns.countplot(ax=axs[0],x='Contact with COVID Patient',hue='Attended Large Gathering',data=x)\n",
    "barPerc(x,'Contact with COVID Patient',axs[0])\n",
    "sns.countplot(ax=axs[1],x='Contact with COVID Patient',hue='Visited Public Exposed Places',data=x)\n",
    "barPerc(x,'Contact with COVID Patient',axs[1])\n",
    "sns.countplot(ax=axs[2],x='Contact with COVID Patient',hue='Family working in Public Exposed Places',data=x)\n",
    "barPerc(x,'Contact with COVID Patient',axs[2])\n",
    "plt.legend(loc='upper left', title='Family working in Public\\n Exposed Places')\n"
   ]
  },
  {
   "cell_type": "code",
   "execution_count": null,
   "id": "d76ed796",
   "metadata": {},
   "outputs": [],
   "source": [
    "fig, axs = plt.subplots(1, 2, figsize=(20, 5))\n",
    "sns.countplot(ax=axs[0],x='Contact with COVID Patient',hue='Wearing Masks',data=x)\n",
    "sns.countplot(ax=axs[1],x='Contact with COVID Patient',hue='Sanitization from Market',data=x)"
   ]
  },
  {
   "cell_type": "code",
   "execution_count": null,
   "id": "aa714a91",
   "metadata": {},
   "outputs": [],
   "source": [
    "#combine x and y for further analysis\n",
    "x['covid']=y"
   ]
  },
  {
   "cell_type": "code",
   "execution_count": null,
   "id": "b76e41a7",
   "metadata": {},
   "outputs": [],
   "source": [
    "fig, axs = plt.subplots(1, 3, figsize=(20, 5))\n",
    "sns.countplot(ax=axs[0],x='covid',hue='Breathing Problem',data=x)\n",
    "barPerc(x,'covid',axs[0])\n",
    "sns.countplot(ax=axs[1],x='covid',hue='Asthma',data=x) \n",
    "barPerc(x,'covid',axs[1])\n",
    "sns.countplot(ax=axs[2],x='covid',hue='Headache',data=x)\n",
    "barPerc(x,'covid',axs[2])\n"
   ]
  },
  {
   "cell_type": "code",
   "execution_count": null,
   "id": "2fab1b3e",
   "metadata": {},
   "outputs": [],
   "source": [
    "fig, axs = plt.subplots(1, 2, figsize=(20, 5))\n",
    "temp=x[x['covid']=='Yes']\n",
    "sns.countplot(ax=axs[0],x='Chronic Lung Disease',hue='Breathing Problem',data=temp)\n",
    "axs[0].title.set_text('COVID Positive')\n",
    "barPerc(x,'Chronic Lung Disease',axs[0])\n",
    "temp=x[x['covid']=='No']\n",
    "sns.countplot(ax=axs[1],x='Chronic Lung Disease',hue='Breathing Problem',data=temp)\n",
    "axs[1].title.set_text('COVID Negative')\n",
    "barPerc(x,'Chronic Lung Disease',axs[1])\n"
   ]
  },
  {
   "cell_type": "code",
   "execution_count": null,
   "id": "6c0b5f3f",
   "metadata": {},
   "outputs": [],
   "source": [
    "fig, axs = plt.subplots(1, 2, figsize=(20, 5))\n",
    "temp=x[x['covid']=='Yes']\n",
    "sns.countplot(ax=axs[0],x='Chronic Lung Disease',hue='Asthma',data=temp)\n",
    "axs[0].title.set_text('COVID Positive')\n",
    "barPerc(x,'Chronic Lung Disease',axs[0])\n",
    "\n",
    "temp=x[x['covid']=='No']\n",
    "sns.countplot(ax=axs[1],x='Chronic Lung Disease',hue='Asthma',data=temp)\n",
    "axs[1].title.set_text('COVID Negative')\n",
    "barPerc(x,'Chronic Lung Disease',axs[1])\n"
   ]
  },
  {
   "cell_type": "code",
   "execution_count": null,
   "id": "a0c2a22d",
   "metadata": {},
   "outputs": [],
   "source": [
    "fig, axs = plt.subplots(1, 2, figsize=(20, 5))\n",
    "temp=x[x['covid']=='Yes']\n",
    "sns.countplot(ax=axs[0],x='Chronic Lung Disease',hue='Dry Cough',data=temp)\n",
    "axs[0].title.set_text('COVID Positive')\n",
    "barPerc(x,'Chronic Lung Disease',axs[0])\n",
    "\n",
    "temp=x[x['covid']=='No']\n",
    "sns.countplot(ax=axs[1],x='Chronic Lung Disease',hue='Dry Cough',data=temp)\n",
    "axs[1].title.set_text('COVID Negative')\n",
    "barPerc(x,'Chronic Lung Disease',axs[1])\n"
   ]
  },
  {
   "cell_type": "code",
   "execution_count": null,
   "id": "ea14ebac",
   "metadata": {},
   "outputs": [],
   "source": [
    "fig, axs = plt.subplots(1, 2, figsize=(20, 5))\n",
    "temp=x[x['covid']=='Yes']\n",
    "sns.countplot(ax=axs[0],x='Heart Disease',hue='Breathing Problem',data=temp)\n",
    "barPerc(x,'Heart Disease',axs[0])\n",
    "\n",
    "axs[0].title.set_text('COVID Positive')\n",
    "temp=x[x['covid']=='No']\n",
    "sns.countplot(ax=axs[1],x='Heart Disease',hue='Breathing Problem',data=temp)\n",
    "axs[1].title.set_text('COVID Negative')\n",
    "barPerc(x,'Heart Disease',axs[1])\n"
   ]
  },
  {
   "cell_type": "code",
   "execution_count": null,
   "id": "d0ca2953",
   "metadata": {},
   "outputs": [],
   "source": [
    "fig, axs = plt.subplots(1, 2, figsize=(20, 5))\n",
    "temp=x[x['covid']=='Yes']\n",
    "sns.countplot(ax=axs[0],x='Heart Disease',hue='Asthma',data=temp)\n",
    "axs[0].title.set_text('COVID Positive')\n",
    "barPerc(x,'Heart Disease',axs[0])\n",
    "\n",
    "temp=x[x['covid']=='No']\n",
    "sns.countplot(ax=axs[1],x='Heart Disease',hue='Asthma',data=temp)\n",
    "axs[1].title.set_text('COVID Negative')\n",
    "barPerc(x,'Heart Disease',axs[1])\n"
   ]
  },
  {
   "cell_type": "code",
   "execution_count": null,
   "id": "9e0209d5",
   "metadata": {},
   "outputs": [],
   "source": [
    "#meaningless\n",
    "fig, axs = plt.subplots(1, 2, figsize=(20, 5))\n",
    "temp=x[x['covid']=='Yes']\n",
    "sns.countplot(ax=axs[0],x='Attended Large Gathering',hue='Wearing Masks',data=temp)\n",
    "axs[0].title.set_text('COVID Positive')\n",
    "temp=x[x['covid']=='No']\n",
    "sns.countplot(ax=axs[1],x='Attended Large Gathering',hue='Wearing Masks',data=temp)\n",
    "axs[1].title.set_text('COVID Negative')\n"
   ]
  },
  {
   "cell_type": "code",
   "execution_count": null,
   "id": "603caea0",
   "metadata": {},
   "outputs": [],
   "source": [
    "fig, axs = plt.subplots(1, 2, figsize=(20, 5))\n",
    "temp=x[x['covid']=='Yes']\n",
    "sns.countplot(ax=axs[0],x='Attended Large Gathering',hue='Visited Public Exposed Places',data=temp)\n",
    "axs[0].title.set_text('COVID Positive')\n",
    "barPerc(x,'Attended Large Gathering',axs[0])\n",
    "\n",
    "temp=x[x['covid']=='No']\n",
    "sns.countplot(ax=axs[1],x='Attended Large Gathering',hue='Visited Public Exposed Places',data=temp)\n",
    "axs[1].title.set_text('COVID Negative')\n",
    "barPerc(x,'Attended Large Gathering',axs[1])\n"
   ]
  },
  {
   "cell_type": "code",
   "execution_count": null,
   "id": "fec5a3f5",
   "metadata": {},
   "outputs": [],
   "source": [
    "fig, axs = plt.subplots(1, 2, figsize=(20, 5))\n",
    "temp=x[x['covid']=='Yes']\n",
    "sns.countplot(ax=axs[0],x='Attended Large Gathering',hue='Family working in Public Exposed Places',data=temp)\n",
    "axs[0].title.set_text('COVID Positive')\n",
    "barPerc(x,'Attended Large Gathering',axs[0])\n",
    "\n",
    "temp=x[x['covid']=='No']\n",
    "sns.countplot(ax=axs[1],x='Attended Large Gathering',hue='Family working in Public Exposed Places',data=temp)\n",
    "axs[1].title.set_text('COVID Negative')\n",
    "barPerc(x,'Attended Large Gathering',axs[1])"
   ]
  },
  {
   "cell_type": "code",
   "execution_count": null,
   "id": "918eb614",
   "metadata": {},
   "outputs": [],
   "source": [
    "fig, axs = plt.subplots(1, 1, figsize=(20, 5))\n",
    "sns.countplot(x='covid',hue='Contact with COVID Patient',data=x)\n",
    "barPerc(x,'covid',axs)\n",
    "#can observe the airborn nature"
   ]
  },
  {
   "cell_type": "code",
   "execution_count": null,
   "id": "b922bcfc",
   "metadata": {},
   "outputs": [],
   "source": [
    "fig, axs = plt.subplots(1, 1, figsize=(20, 5))\n",
    "sns.countplot(x='covid',hue='Abroad travel',data=x)\n"
   ]
  },
  {
   "cell_type": "code",
   "execution_count": null,
   "id": "daac7eb8",
   "metadata": {},
   "outputs": [],
   "source": [
    "fig, axs = plt.subplots(1, 2, figsize=(20, 5))\n",
    "temp=x[x['covid']=='Yes']\n",
    "sns.countplot(ax=axs[0],x='Abroad travel',hue='Attended Large Gathering',data=temp)\n",
    "axs[0].title.set_text('COVID Positive')\n",
    "barPerc(x,'Abroad travel',axs[0])\n",
    "\n",
    "temp=x[x['covid']=='No']\n",
    "sns.countplot(ax=axs[1],x='Abroad travel',hue='Attended Large Gathering',data=temp)\n",
    "axs[1].title.set_text('COVID Negative')\n"
   ]
  },
  {
   "cell_type": "code",
   "execution_count": null,
   "id": "3825b0de",
   "metadata": {},
   "outputs": [],
   "source": [
    "fig, axs = plt.subplots(1, 2, figsize=(20, 5))\n",
    "temp=x[x['covid']=='Yes']\n",
    "sns.countplot(ax=axs[0],x='Abroad travel',hue='Visited Public Exposed Places',data=temp)\n",
    "axs[0].title.set_text('COVID Positive')\n",
    "barPerc(x,'Abroad travel',axs[0])\n",
    "\n",
    "temp=x[x['covid']=='No']\n",
    "sns.countplot(ax=axs[1],x='Abroad travel',hue='Visited Public Exposed Places',data=temp)\n",
    "axs[1].title.set_text('COVID Negative')\n"
   ]
  },
  {
   "cell_type": "code",
   "execution_count": null,
   "id": "9b8bbc5e",
   "metadata": {},
   "outputs": [],
   "source": [
    "fig, axs = plt.subplots(1, 3, figsize=(20, 5))\n",
    "sns.countplot(ax=axs[0],hue='covid',x='Visited Public Exposed Places',data=x)\n",
    "barPerc(x,'Visited Public Exposed Places',axs[0])\n",
    "\n",
    "sns.countplot(ax=axs[1],hue='covid',x='Attended Large Gathering',data=x)\n",
    "barPerc(x,'Attended Large Gathering',axs[1])\n",
    "\n",
    "\n",
    "sns.countplot(ax=axs[2],hue='Contact with COVID Patient',x='Attended Large Gathering',data=x)\n",
    "barPerc(x,'Attended Large Gathering',axs[1])"
   ]
  },
  {
   "cell_type": "code",
   "execution_count": null,
   "id": "f6dc621e",
   "metadata": {},
   "outputs": [],
   "source": [
    "temp=x[x['covid']=='Yes']\n",
    "\n",
    "fig, axs = plt.subplots(1, 3, figsize=(20, 5))\n",
    "sns.countplot(ax=axs[0],hue='Visited Public Exposed Places',x='Contact with COVID Patient',data=temp)\n",
    "barPerc(x,'Contact with COVID Patient',axs[0])\n",
    "\n",
    "sns.countplot(ax=axs[1],hue='Abroad travel',x='Contact with COVID Patient',data=temp)\n",
    "barPerc(x,'Contact with COVID Patient',axs[1])\n",
    "\n",
    "\n",
    "sns.countplot(ax=axs[2],hue='Family working in Public Exposed Places',x='Contact with COVID Patient',data=temp)\n",
    "barPerc(x,'Contact with COVID Patient',axs[2])"
   ]
  },
  {
   "cell_type": "markdown",
   "id": "d8344500",
   "metadata": {},
   "source": [
    "# New"
   ]
  },
  {
   "cell_type": "code",
   "execution_count": null,
   "id": "eb3095ff",
   "metadata": {},
   "outputs": [],
   "source": [
    "fig, axs = plt.subplots(1, 3, figsize=(20, 5))\n",
    "sns.countplot(ax=axs[0],x='Asthma',data=temp)\n",
    "\n",
    "sns.countplot(ax=axs[1],x='Breathing Problem',data=temp)\n",
    "\n",
    "sns.countplot(ax=axs[2],x='Hyper Tension',data=temp)\n"
   ]
  },
  {
   "cell_type": "code",
   "execution_count": null,
   "id": "38d4c3f7",
   "metadata": {},
   "outputs": [],
   "source": [
    "fig, axs = plt.subplots(1, 3, figsize=(20, 5))\n",
    "sns.countplot(ax=axs[0],x='Breathing Problem',data=temp)\n",
    "\n",
    "sns.countplot(ax=axs[1],x='Sore throat',data=temp)\n",
    "\n",
    "sns.countplot(ax=axs[2],x='Running Nose',data=temp)\n"
   ]
  },
  {
   "cell_type": "code",
   "execution_count": null,
   "id": "5d679544",
   "metadata": {},
   "outputs": [],
   "source": [
    "fig, axs = plt.subplots(1, 3, figsize=(20, 5))\n",
    "sns.countplot(ax=axs[0],x='covid',hue='Breathing Problem',data=x)\n",
    "barPerc(x,'covid',axs[0])\n",
    "\n",
    "sns.countplot(ax=axs[1],x='covid',hue='Sore throat',data=x)\n",
    "barPerc(x,'covid',axs[1])\n",
    "\n",
    "sns.countplot(ax=axs[2],x='covid',hue='Running Nose',data=x)\n",
    "barPerc(x,'covid',axs[2])\n"
   ]
  },
  {
   "cell_type": "code",
   "execution_count": null,
   "id": "9b2890fb",
   "metadata": {},
   "outputs": [],
   "source": [
    "fig, axs = plt.subplots(1, 3, figsize=(20, 5))\n",
    "sns.countplot(ax=axs[0],x='Headache',data=temp)\n",
    "\n",
    "sns.countplot(ax=axs[1],x='Fever',data=temp)\n",
    "\n",
    "sns.countplot(ax=axs[2],x='Fatigue ',data=temp)\n"
   ]
  },
  {
   "cell_type": "code",
   "execution_count": null,
   "id": "173b4d53",
   "metadata": {},
   "outputs": [],
   "source": [
    "fig, axs = plt.subplots(1, 3, figsize=(20, 5))\n",
    "sns.countplot(ax=axs[0],x='covid',hue='Headache',data=x)\n",
    "barPerc(x,'covid',axs[0])\n",
    "\n",
    "sns.countplot(ax=axs[1],x='covid',hue='Fever',data=x)\n",
    "barPerc(x,'covid',axs[0])\n",
    "\n",
    "sns.countplot(ax=axs[2],x='covid',hue='Fatigue ',data=x)\n",
    "barPerc(x,'covid',axs[0])\n"
   ]
  },
  {
   "cell_type": "code",
   "execution_count": null,
   "id": "ffce1ebb",
   "metadata": {},
   "outputs": [],
   "source": [
    "fig, axs = plt.subplots(1, 3, figsize=(20, 5))\n",
    "sns.countplot(ax=axs[0],x='Contact with COVID Patient',data=temp)\n",
    "\n",
    "sns.countplot(ax=axs[1],x='Abroad travel',data=temp)\n",
    "\n",
    "sns.countplot(ax=axs[2],x='Attended Large Gathering',data=temp)\n"
   ]
  },
  {
   "cell_type": "code",
   "execution_count": null,
   "id": "c714f4f9",
   "metadata": {},
   "outputs": [],
   "source": [
    "fig, axs = plt.subplots(1, 3, figsize=(20, 5))\n",
    "sns.countplot(ax=axs[0],x='covid', hue='Contact with COVID Patient',data=x)\n",
    "barPerc(x,'covid',axs[0])\n",
    "\n",
    "sns.countplot(ax=axs[1],x='covid', hue='Abroad travel',data=x)\n",
    "barPerc(x,'covid',axs[1])\n",
    "\n",
    "sns.countplot(ax=axs[2],x='covid', hue='Attended Large Gathering',data=x)\n",
    "barPerc(x,'covid',axs[2])\n"
   ]
  },
  {
   "cell_type": "code",
   "execution_count": null,
   "id": "90097552",
   "metadata": {},
   "outputs": [],
   "source": [
    "fig, axs = plt.subplots(1, 2, figsize=(20, 5))\n",
    "sns.countplot(ax=axs[0],x='Visited Public Exposed Places',data=temp)\n",
    "\n",
    "sns.countplot(ax=axs[1],x='Family working in Public Exposed Places',data=temp)\n",
    "\n"
   ]
  },
  {
   "cell_type": "code",
   "execution_count": null,
   "id": "dec82f18",
   "metadata": {},
   "outputs": [],
   "source": [
    "fig, axs = plt.subplots(1, 2, figsize=(20, 5))\n",
    "sns.countplot(ax=axs[0],x='covid',hue='Visited Public Exposed Places',data=x)\n",
    "barPerc(x,'covid',axs[0])\n",
    "\n",
    "sns.countplot(ax=axs[1],x='covid',hue='Family working in Public Exposed Places',data=x)\n",
    "barPerc(x,'covid',axs[1])\n",
    "\n"
   ]
  },
  {
   "cell_type": "code",
   "execution_count": null,
   "id": "38a98327",
   "metadata": {},
   "outputs": [],
   "source": [
    "fig, axs = plt.subplots(1, 2, figsize=(20, 5))\n",
    "sns.countplot(ax=axs[0],x='covid',hue='Wearing Masks',data=x)\n",
    "\n",
    "sns.countplot(ax=axs[1],x='covid',hue='Sanitization from Market',data=x)\n"
   ]
  },
  {
   "cell_type": "code",
   "execution_count": null,
   "id": "beeb3f17",
   "metadata": {},
   "outputs": [],
   "source": [
    "fig, axs = plt.subplots(1, 2, figsize=(20, 5))\n",
    "sns.countplot(ax=axs[0],x='Wearing Masks',data=temp)\n",
    "barPerc(x,'covid',axs[0])\n",
    "\n",
    "sns.countplot(ax=axs[1],x='Sanitization from Market',data=temp)\n",
    "barPerc(x,'covid',axs[1])\n"
   ]
  },
  {
   "cell_type": "code",
   "execution_count": null,
   "id": "734d9257",
   "metadata": {},
   "outputs": [],
   "source": [
    "def without_hue(plot, feature):\n",
    "    total = len(feature)\n",
    "    for p in plot.patches:\n",
    "        percentage = '{:.1f}%'.format(100 * p.get_height()/total)\n",
    "        x = p.get_x() + p.get_width() / 2 - 0.05\n",
    "        y = p.get_y() + p.get_height()\n",
    "        ax.annotate(percentage, (x, y), size = 12)\n",
    "    plt.show()"
   ]
  },
  {
   "cell_type": "code",
   "execution_count": null,
   "id": "1ffc6743",
   "metadata": {},
   "outputs": [],
   "source": [
    "temp=x[x['covid']=='Yes']\n",
    "\n",
    "fig, axs = plt.subplots(1, 5, figsize=(20, 5))\n",
    "sns.countplot(ax=axs[0],x='Fever',data=temp)\n",
    "\n",
    "sns.countplot(ax=axs[1],x='Headache',data=temp)\n",
    "\n",
    "sns.countplot(ax=axs[2],x='Sore throat',data=temp)\n",
    "\n",
    "sns.countplot(ax=axs[3],x='Dry Cough',data=temp)\n",
    "\n",
    "sns.countplot(ax=axs[4],x='Fatigue ',data=temp)\n"
   ]
  },
  {
   "cell_type": "code",
   "execution_count": null,
   "id": "68a8d11b",
   "metadata": {},
   "outputs": [],
   "source": [
    "fig, axs = plt.subplots(1, 2, figsize=(20, 5))\n",
    "sns.countplot(ax=axs[0],x='covid',hue='Asthma',data=x)\n",
    "barPerc(x,'covid',axs[0])\n",
    "\n",
    "sns.countplot(ax=axs[1],x='covid',hue='Chronic Lung Disease',data=x)\n",
    "barPerc(x,'covid',axs[1])\n",
    "\n"
   ]
  },
  {
   "cell_type": "code",
   "execution_count": null,
   "id": "02a79915",
   "metadata": {},
   "outputs": [],
   "source": [
    "fig, axs = plt.subplots(1, 2, figsize=(20, 5))\n",
    "sns.countplot(ax=axs[0],x='Asthma',data=temp)\n",
    "\n",
    "sns.countplot(ax=axs[1],x='Chronic Lung Disease',data=temp)\n"
   ]
  },
  {
   "cell_type": "code",
   "execution_count": null,
   "id": "2f891d90",
   "metadata": {},
   "outputs": [],
   "source": [
    "fig, axs = plt.subplots(1, 5, figsize=(20, 5))\n",
    "sns.countplot(ax=axs[0],x='covid',hue='Heart Disease',data=x)   \n",
    "barPerc(x,'covid',axs[0])\n",
    "\n",
    "sns.countplot(ax=axs[1],x='covid',hue='Diabetes',data=x)\n",
    "barPerc(x,'covid',axs[1])\n",
    "\n",
    "sns.countplot(ax=axs[2],x='covid',hue='Hyper Tension',data=x)\n",
    "barPerc(x,'covid',axs[2])\n",
    "\n",
    "sns.countplot(ax=axs[3],x='covid',hue='Gastrointestinal ',data=x)\n",
    "barPerc(x,'covid',axs[3])\n",
    "\n",
    "sns.countplot(ax=axs[4],x='covid',hue='Chronic Lung Disease',data=x)\n",
    "barPerc(x,'covid',axs[4])"
   ]
  },
  {
   "cell_type": "code",
   "execution_count": null,
   "id": "9e40b35a",
   "metadata": {},
   "outputs": [],
   "source": [
    "fig, axs = plt.subplots(1, 4, figsize=(20, 5))\n",
    "sns.countplot(ax=axs[0],x='Heart Disease',data=temp)   \n",
    "\n",
    "sns.countplot(ax=axs[1],x='Diabetes',data=temp)\n",
    "\n",
    "sns.countplot(ax=axs[2],x='Hyper Tension',data=temp)\n",
    "\n",
    "sns.countplot(ax=axs[3],x='Gastrointestinal ',data=temp)\n"
   ]
  },
  {
   "cell_type": "markdown",
   "id": "025ccbc4",
   "metadata": {},
   "source": [
    "# chi square tests to evalute the correlation\n",
    "\n",
    "Let H0: There is no Relationship between two variables (Two variables are independent)\n",
    "\n",
    "    H1: There is a Relationship between two variables (Two variables are not independent)\n"
   ]
  },
  {
   "cell_type": "code",
   "execution_count": null,
   "id": "186661e7",
   "metadata": {},
   "outputs": [],
   "source": [
    "#encode values\n",
    "dic={'Yes':1,'No':0}\n",
    "for i in x.columns:\n",
    "    x[i].replace(dic,inplace=True)\n",
    "for i in xtest.columns:\n",
    "    xtest[i].replace(dic,inplace=True)\n",
    "for i in ytest:\n",
    "    ytest[i].replace(dic,inplace=True)"
   ]
  },
  {
   "cell_type": "code",
   "execution_count": null,
   "id": "69e7c49f",
   "metadata": {},
   "outputs": [],
   "source": [
    "#remove covid and ID from datafram\n",
    "y=x['covid']\n",
    "x.drop(['covid'],inplace=True,axis=1)\n",
    "x.drop(['ID'],inplace=True,axis=1)\n",
    "xtest.drop(['ID'],inplace=True,axis=1)"
   ]
  },
  {
   "cell_type": "code",
   "execution_count": null,
   "id": "edce3d62",
   "metadata": {},
   "outputs": [],
   "source": [
    "from scipy.stats import chi2_contingency\n",
    "colnames=x.columns\n",
    "for i in colnames:\n",
    "    contingency=pd.crosstab(x[i],y)\n",
    "    print('Contingency table for Covid and ',i)\n",
    "    print(contingency)\n",
    "    stat,p,dof,expected=chi2_contingency(contingency)\n",
    "    alpha=0.05\n",
    "    if p<= alpha:\n",
    "        print('Covid and ',i,' are related')\n",
    "        \n",
    "    else:\n",
    "        print('Covid and ',i,' are not  related')\n",
    "    print(\"########################################3\")\n",
    "    \n",
    "    "
   ]
  },
  {
   "cell_type": "code",
   "execution_count": null,
   "id": "d819a6b4",
   "metadata": {},
   "outputs": [],
   "source": [
    "from sklearn.feature_selection import chi2\n",
    "\n",
    "xtemp=x.iloc[:,0:18]\n",
    "resultant = pd.DataFrame(data=[(0 for i in range(len(xtemp.columns))) for i in range(len(xtemp.columns))], \n",
    "                         columns=list(xtemp.columns))\n",
    "resultant.set_index(pd.Index(list(xtemp.columns)), inplace = True)"
   ]
  },
  {
   "cell_type": "code",
   "execution_count": null,
   "id": "1e680463",
   "metadata": {},
   "outputs": [],
   "source": [
    "import numpy as np\n",
    "\n",
    "for i in list(xtemp.columns):\n",
    "    for j in list(xtemp.columns):\n",
    "        if i != j:\n",
    "            chi2_val, p_val = chi2(np.array(xtemp[i]).reshape(-1, 1), np.array(xtemp[j]).reshape(-1, 1))\n",
    "            resultant.loc[i,j] = p_val\n",
    "print(resultant)"
   ]
  },
  {
   "cell_type": "code",
   "execution_count": null,
   "id": "0ead1bce",
   "metadata": {},
   "outputs": [],
   "source": [
    "fig = plt.figure(figsize=(20,20))\n",
    "sns.heatmap(resultant, annot=True, cmap='Blues')\n",
    "plt.title('Chi-Square Test Results')\n",
    "plt.show()"
   ]
  },
  {
   "cell_type": "code",
   "execution_count": null,
   "id": "ffe472fa",
   "metadata": {},
   "outputs": [],
   "source": [
    "resultant[resultant<0.05]"
   ]
  },
  {
   "cell_type": "markdown",
   "id": "0d2968cf",
   "metadata": {},
   "source": [
    "Breathing problem has a relation between Fever, Dry Cough ,Sore throat,\tRunning Nose,\tAsthma,\tChronic Lung Disease,\tHeadache,\tHeart Disease,\tDiabetes,\tHyper Tension,\tGastrointestinal,\tAbroad travel,\tContact with COVID Patient,\tAttended Large Gathering,\tVisited Public Exposed Places"
   ]
  },
  {
   "cell_type": "markdown",
   "id": "a41db29d",
   "metadata": {},
   "source": [
    "# Modeling"
   ]
  },
  {
   "cell_type": "code",
   "execution_count": null,
   "id": "f017dbfc",
   "metadata": {},
   "outputs": [],
   "source": [
    "#XGB\n",
    "import xgboost as xgb\n",
    "from sklearn.metrics import accuracy_score\n",
    "from sklearn.metrics import confusion_matrix\n",
    "from sklearn.metrics import plot_confusion_matrix\n",
    "from sklearn.metrics import classification_report \n",
    "xgbClfr=xgb.XGBClassifier().fit(x,y)\n",
    "xgbPred=xgbClfr.predict(xtest)\n",
    "xgbAcc=accuracy_score(ytest,xgbPred)\n",
    "conmat = confusion_matrix(ytest, xgbPred)\n",
    "disp = plot_confusion_matrix(xgbClfr, xtest, ytest,cmap=plt.cm.Blues)\n",
    "disp.ax_.set_title('Confusion Matrix for XGB Classifier')\n",
    "xgbprobs=xgbClfr.predict_proba(xtest)\n",
    "print(\"Accuracy of XGB \")\n",
    "print(classification_report(ytest, xgbPred))\n",
    "print(\"Class wise Accuracy \")\n",
    "print(\"Class 0 \",(conmat[0][0])/(conmat[0][0]+conmat[0][1]))\n",
    "print(\"Class 1 \",(conmat[1][1])/(conmat[1][0]+conmat[1][1]))"
   ]
  },
  {
   "cell_type": "code",
   "execution_count": null,
   "id": "e5806694",
   "metadata": {},
   "outputs": [],
   "source": [
    "\n",
    "xgb.plot_importance(xgbClfr)\n",
    "plt.rcParams['figure.figsize'] = [5, 5]\n",
    "plt.show()"
   ]
  },
  {
   "cell_type": "code",
   "execution_count": null,
   "id": "16ead08f",
   "metadata": {},
   "outputs": [],
   "source": [
    "#reduce variables based on variable selection\n",
    "xnew=x[['Sore throat','Dry Cough','Contact with COVID Patient','Hyper Tension','Breathing Problem','Fever','Heart Disease','Visited Public Exposed Places',\n",
    "      'Diabetes','Asthma','Running Nose','Headache']]\n",
    "xnewtest=xtest[['Sore throat','Dry Cough','Contact with COVID Patient','Hyper Tension','Breathing Problem','Fever','Heart Disease','Visited Public Exposed Places',\n",
    "      'Diabetes','Asthma','Running Nose','Headache']]\n"
   ]
  },
  {
   "cell_type": "code",
   "execution_count": null,
   "id": "454f889f",
   "metadata": {},
   "outputs": [],
   "source": [
    "#SVM\n",
    "from sklearn import svm\n",
    "\n",
    "\n",
    "svmClfr=svm.SVC(probability=True).fit(x,y)\n",
    "svmPred=svmClfr.predict(xtest)\n",
    "svmAcc=accuracy_score(ytest,svmPred)\n",
    "conmat = confusion_matrix(ytest, svmPred)\n",
    "disp = plot_confusion_matrix(svmClfr, xtest, ytest,cmap=plt.cm.Blues)\n",
    "svmprobs=svmClfr.predict_proba(xtest)\n",
    "disp.ax_.set_title('Confusion Matrix for SVM Classifier')\n",
    "print(\"Accuracy of SVM \")\n",
    "print(classification_report(ytest, svmPred))\n",
    "print(\"Class wise Accuracy \")\n",
    "print(\"Class 0 \",(conmat[0][0])/(conmat[0][0]+conmat[0][1]))\n",
    "print(\"Class 1 \",(conmat[1][1])/(conmat[1][0]+conmat[1][1]))"
   ]
  },
  {
   "cell_type": "code",
   "execution_count": null,
   "id": "fba969ce",
   "metadata": {},
   "outputs": [],
   "source": [
    "#ANN\n",
    "from numpy import loadtxt\n",
    "from keras.models import Sequential\n",
    "from keras.layers import Dense\n",
    "\n",
    "annx=x.to_numpy()\n",
    "annxtest=xtest.to_numpy()\n",
    "anny=y.to_numpy()\n",
    "annytest=ytest.to_numpy()\n",
    "model = Sequential()\n",
    "model.add(Dense(22, input_dim=20, activation='relu'))\n",
    "model.add(Dense(6, activation='relu'))\n",
    "model.add(Dense(1, activation='sigmoid'))\n",
    "model.compile(loss='binary_crossentropy', optimizer='adam', metrics=['accuracy'])\n",
    "model.fit(annx, anny, epochs=150, batch_size=10)\n",
    "_, accuracy = model.evaluate(annxtest, annytest)\n",
    "print('Accuracy: %.2f' % (accuracy*100))\n",
    "annprobs=model.predict_proba(xtest)\n"
   ]
  },
  {
   "cell_type": "code",
   "execution_count": null,
   "id": "d1b8f0e4",
   "metadata": {},
   "outputs": [],
   "source": [
    "#visualize ann\n",
    "from ann_visualizer.visualize import ann_viz;\n",
    "\n",
    "ann_viz(model, view=True, title=\"Neural Network for COVID prediction\")"
   ]
  },
  {
   "cell_type": "code",
   "execution_count": null,
   "id": "2c15de10",
   "metadata": {},
   "outputs": [],
   "source": [
    "x.columns"
   ]
  },
  {
   "cell_type": "code",
   "execution_count": null,
   "id": "1e91baa7",
   "metadata": {},
   "outputs": [],
   "source": [
    "features=['Breathing Problem', 'Fever', 'Dry Cough', 'Sore throat',\n",
    "       'Running Nose', 'Asthma', 'Chronic Lung Disease', 'Headache',\n",
    "       'Heart Disease', 'Diabetes', 'Hyper Tension', 'Fatigue ',\n",
    "       'Gastrointestinal ', 'Abroad travel', 'Contact with COVID Patient',\n",
    "       'Attended Large Gathering', 'Visited Public Exposed Places',\n",
    "       'Family working in Public Exposed Places', 'Wearing Masks',\n",
    "       'Sanitization from Market']"
   ]
  },
  {
   "cell_type": "code",
   "execution_count": null,
   "id": "f1a6cea8",
   "metadata": {},
   "outputs": [],
   "source": [
    "from sklearn.inspection import plot_partial_dependence\n",
    "# scikit-learn originally implemented partial dependence plots only for Gradient Boosting models\n",
    "# this was due to an implementation detail, and a future release will support all model types.\n",
    "# fit the model as usual\n",
    "# Here we make the plot\n",
    "\n",
    "my_plots = plot_partial_dependence(xgbClfr, x, features,\n",
    "                        n_jobs=3, grid_resolution=20)"
   ]
  },
  {
   "cell_type": "code",
   "execution_count": null,
   "id": "d8335d6d",
   "metadata": {
    "scrolled": true
   },
   "outputs": [],
   "source": [
    "xgb.plot_tree(xgbClfr,num_trees=0)\n",
    "plt.show()"
   ]
  },
  {
   "cell_type": "code",
   "execution_count": null,
   "id": "152cce3a",
   "metadata": {},
   "outputs": [],
   "source": [
    "#RF\n",
    "from sklearn.ensemble import RandomForestClassifier\n",
    "\n",
    "rfClfr=RandomForestClassifier().fit(x,y)\n",
    "rfPred=rfClfr.predict(xtest)\n",
    "rfAcc=accuracy_score(ytest,rfPred)\n",
    "conmat = confusion_matrix(ytest, rfPred)\n",
    "disp = plot_confusion_matrix(rfClfr, xtest, ytest,cmap=plt.cm.Blues)\n",
    "rfprobs=rfClfr.predict_proba(xtest)\n",
    "disp.ax_.set_title('Confusion Matrix for RF Classifier')\n",
    "print(\"Accuracy of RF \")\n",
    "print(classification_report(ytest, rfPred))\n",
    "print(\"Class wise Accuracy \")\n",
    "print(\"Class 0 \",(conmat[0][0])/(conmat[0][0]+conmat[0][1]))\n",
    "print(\"Class 1 \",(conmat[1][1])/(conmat[1][0]+conmat[1][1]))"
   ]
  },
  {
   "cell_type": "code",
   "execution_count": null,
   "id": "6cff31de",
   "metadata": {},
   "outputs": [],
   "source": [
    "# roc curve and auc\n",
    "from sklearn.metrics import roc_curve\n",
    "from sklearn.metrics import roc_auc_score\n",
    "from matplotlib import pyplot\n",
    "\n",
    "ns_probs = [0 for _ in range(len(ytest))]\n",
    "\n",
    "svmprobs = svmprobs[:, 1]\n",
    "rfprobs = rfprobs[:, 1]\n",
    "#annprobs = annprobs[:, 1]\n",
    "xgbprobs = xgbprobs[:, 1]\n",
    "\n",
    "\n",
    "ns_auc = roc_auc_score(ytest, ns_probs)\n",
    "svm_auc = roc_auc_score(ytest, svmprobs)\n",
    "rf_auc = roc_auc_score(ytest, rfprobs)\n",
    "ann_auc = roc_auc_score(ytest, annprobs)\n",
    "xgb_auc = roc_auc_score(ytest, xgbprobs)\n",
    "\n",
    "# summarize scores\n",
    "print('Random Classifier: ROC AUC=%.3f' % (ns_auc))\n",
    "print('SVM: ROC AUC=%.3f' % (svm_auc))\n",
    "print('RF: ROC AUC=%.3f' % (rf_auc))\n",
    "print('ANN: ROC AUC=%.3f' % (ann_auc))\n",
    "print('XGB: ROC AUC=%.3f' % (xgb_auc))\n",
    "\n",
    "# calculate roc curves\n",
    "ns_fpr, ns_tpr, _ = roc_curve(ytest, ns_probs)\n",
    "lr_fpr, lr_tpr, _ = roc_curve(ytest, svmprobs)\n",
    "rf_fpr, rf_tpr, _ = roc_curve(ytest, rfprobs)\n",
    "ann_fpr, ann_tpr, _ = roc_curve(ytest, annprobs)\n",
    "xgb_fpr, xgb_tpr, _ = roc_curve(ytest, xgbprobs)\n",
    "\n",
    "# plot the roc curve for the model\n",
    "pyplot.plot(ns_fpr, ns_tpr, linestyle='--', label='Random Classifier')\n",
    "pyplot.plot(lr_fpr, lr_tpr, marker='.', label='SVM')\n",
    "pyplot.plot(rf_fpr, rf_tpr, marker='.', label='RF')\n",
    "pyplot.plot(ann_fpr, ann_tpr, marker='.', label='ANN')\n",
    "pyplot.plot(xgb_fpr, xgb_tpr, marker='.', label='XGB')\n",
    "\n",
    "\n",
    "# axis labels\n",
    "pyplot.xlabel('False Positive Rate')\n",
    "pyplot.ylabel('True Positive Rate')\n",
    "# show the legend\n",
    "pyplot.legend()\n",
    "# show the plot\n",
    "pyplot.show()"
   ]
  },
  {
   "cell_type": "code",
   "execution_count": null,
   "id": "7c7ca72a",
   "metadata": {},
   "outputs": [],
   "source": []
  },
  {
   "cell_type": "markdown",
   "id": "86d25d89",
   "metadata": {},
   "source": [
    "# Multiple correspondence analysis "
   ]
  },
  {
   "cell_type": "code",
   "execution_count": null,
   "id": "327e540a",
   "metadata": {},
   "outputs": [],
   "source": [
    "from prince import MCA\n",
    "\n",
    "newdata=data \n",
    "newdata.drop(inplace=True, axis=1,columns='ID')\n",
    "mca = MCA(n_components = 3, n_iter = 3, random_state = 101)\n",
    "mca.fit(newdata)\n",
    "tips_mca = mca.transform(newdata)\n",
    "tips_mca.head()"
   ]
  },
  {
   "cell_type": "code",
   "execution_count": null,
   "id": "d92bd2f9",
   "metadata": {},
   "outputs": [],
   "source": [
    "print('Explained Variance ',mca.explained_inertia_)"
   ]
  },
  {
   "cell_type": "code",
   "execution_count": null,
   "id": "aa7ae18c",
   "metadata": {},
   "outputs": [],
   "source": [
    "plt.figure(figsize=(16,16))\n",
    "\n",
    "ax=mca.plot_coordinates(newdata,figsize=(6,6))\n",
    "ax.legend(loc='center right',bbox_to_anchor=(1.75, 0.5))"
   ]
  },
  {
   "cell_type": "code",
   "execution_count": null,
   "id": "160cd658",
   "metadata": {},
   "outputs": [],
   "source": [
    "ax = plt.figure(figsize=(16,10)).gca(projection='3d')\n",
    "\n",
    "ax.scatter(\n",
    "    xs=tips_mca.loc[:,:][0], \n",
    "    ys=tips_mca.loc[:,:][1], \n",
    "    zs=tips_mca.loc[:,:][2], \n",
    "    c=tips_mca[0],\n",
    "    cmap='Set1'\n",
    "   \n",
    ")\n",
    "ax.set_xlabel('pca-one')\n",
    "ax.set_ylabel('pca-two')\n",
    "ax.set_zlabel('pca-three')\n",
    "plt.show()"
   ]
  },
  {
   "cell_type": "code",
   "execution_count": null,
   "id": "6274dc33",
   "metadata": {},
   "outputs": [],
   "source": [
    "columncord=mca.column_coordinates(data)\n"
   ]
  },
  {
   "cell_type": "code",
   "execution_count": null,
   "id": "4cadd1d6",
   "metadata": {},
   "outputs": [],
   "source": [
    "mca1=[]\n",
    "mca2=[]\n",
    "mca3=[]\n",
    "for i in columncord.index:\n",
    "    if abs(columncord[0][i]) >=0.5:\n",
    "        mca1.append(i)\n",
    "    if abs(columncord[1][i]) >=0.5:\n",
    "        mca2.append(i)\n",
    "    if abs(columncord[2][i]) >=0.5:\n",
    "        mca3.append(i)\n",
    "        \n"
   ]
  },
  {
   "cell_type": "code",
   "execution_count": null,
   "id": "81953c05",
   "metadata": {},
   "outputs": [],
   "source": [
    "print('Variables highle correlated with MCA1 are ,')\n",
    "for j in mca1:\n",
    "    print(j)"
   ]
  },
  {
   "cell_type": "code",
   "execution_count": null,
   "id": "665c5dcb",
   "metadata": {},
   "outputs": [],
   "source": [
    "print('Variables highle correlated with MCA2 are ,')\n",
    "for j in mca2:\n",
    "    print(j)"
   ]
  },
  {
   "cell_type": "code",
   "execution_count": null,
   "id": "1009af08",
   "metadata": {},
   "outputs": [],
   "source": [
    "print('Variables highle correlated with MCA3 are ,')\n",
    "for j in mca3:\n",
    "    print(j)"
   ]
  },
  {
   "cell_type": "markdown",
   "id": "ae8c288e",
   "metadata": {},
   "source": [
    "# Apply Apriori Algorithm to discover assocaition Rules"
   ]
  },
  {
   "cell_type": "code",
   "execution_count": null,
   "id": "f1edfe7b",
   "metadata": {},
   "outputs": [],
   "source": [
    "\n",
    "from mlxtend.frequent_patterns import apriori\n",
    "\n",
    "frequent_itemsets_ap = apriori(x.iloc[:,1:], min_support=0.01, use_colnames=True)"
   ]
  },
  {
   "cell_type": "code",
   "execution_count": null,
   "id": "553797d9",
   "metadata": {},
   "outputs": [],
   "source": [
    "print(frequent_itemsets_ap)"
   ]
  },
  {
   "cell_type": "code",
   "execution_count": null,
   "id": "65014ed9",
   "metadata": {},
   "outputs": [],
   "source": [
    "frequent_itemsets_ap=frequent_itemsets_ap[frequent_itemsets_ap['support']>0.1]"
   ]
  },
  {
   "cell_type": "code",
   "execution_count": null,
   "id": "877a386a",
   "metadata": {},
   "outputs": [],
   "source": [
    "from mlxtend.frequent_patterns import association_rules\n",
    "\n",
    "rules_ap = association_rules(frequent_itemsets_ap, metric=\"confidence\", min_threshold=0.8)\n",
    "print(rules_ap)"
   ]
  },
  {
   "cell_type": "code",
   "execution_count": null,
   "id": "3f480fcb",
   "metadata": {},
   "outputs": [],
   "source": [
    "rules_ap.head()"
   ]
  },
  {
   "cell_type": "code",
   "execution_count": null,
   "id": "20f5db59",
   "metadata": {},
   "outputs": [],
   "source": []
  }
 ],
 "metadata": {
  "kernelspec": {
   "display_name": "Python 3",
   "language": "python",
   "name": "python3"
  },
  "language_info": {
   "codemirror_mode": {
    "name": "ipython",
    "version": 3
   },
   "file_extension": ".py",
   "mimetype": "text/x-python",
   "name": "python",
   "nbconvert_exporter": "python",
   "pygments_lexer": "ipython3",
   "version": "3.8.8"
  }
 },
 "nbformat": 4,
 "nbformat_minor": 5
}
