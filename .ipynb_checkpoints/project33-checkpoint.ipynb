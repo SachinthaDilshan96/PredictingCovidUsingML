{
 "cells": [
  {
   "cell_type": "code",
   "execution_count": 1,
   "id": "94b84674",
   "metadata": {},
   "outputs": [],
   "source": [
    "import pandas as pd\n",
    "from sklearn.model_selection import train_test_split\n",
    "import matplotlib.pyplot as plt\n",
    "import seaborn as sns\n",
    "%matplotlib inline  "
   ]
  },
  {
   "cell_type": "code",
   "execution_count": 2,
   "id": "fb98e440",
   "metadata": {},
   "outputs": [],
   "source": [
    "data=pd.read_csv(\"Covid Dataset.csv\")"
   ]
  },
  {
   "cell_type": "code",
   "execution_count": 3,
   "id": "588728f9",
   "metadata": {},
   "outputs": [
    {
     "data": {
      "text/html": [
       "<div>\n",
       "<style scoped>\n",
       "    .dataframe tbody tr th:only-of-type {\n",
       "        vertical-align: middle;\n",
       "    }\n",
       "\n",
       "    .dataframe tbody tr th {\n",
       "        vertical-align: top;\n",
       "    }\n",
       "\n",
       "    .dataframe thead th {\n",
       "        text-align: right;\n",
       "    }\n",
       "</style>\n",
       "<table border=\"1\" class=\"dataframe\">\n",
       "  <thead>\n",
       "    <tr style=\"text-align: right;\">\n",
       "      <th></th>\n",
       "      <th>ID</th>\n",
       "      <th>Breathing Problem</th>\n",
       "      <th>Fever</th>\n",
       "      <th>Dry Cough</th>\n",
       "      <th>Sore throat</th>\n",
       "      <th>Running Nose</th>\n",
       "      <th>Asthma</th>\n",
       "      <th>Chronic Lung Disease</th>\n",
       "      <th>Headache</th>\n",
       "      <th>Heart Disease</th>\n",
       "      <th>...</th>\n",
       "      <th>Fatigue</th>\n",
       "      <th>Gastrointestinal</th>\n",
       "      <th>Abroad travel</th>\n",
       "      <th>Contact with COVID Patient</th>\n",
       "      <th>Attended Large Gathering</th>\n",
       "      <th>Visited Public Exposed Places</th>\n",
       "      <th>Family working in Public Exposed Places</th>\n",
       "      <th>Wearing Masks</th>\n",
       "      <th>Sanitization from Market</th>\n",
       "      <th>COVID-19</th>\n",
       "    </tr>\n",
       "  </thead>\n",
       "  <tbody>\n",
       "    <tr>\n",
       "      <th>0</th>\n",
       "      <td>1</td>\n",
       "      <td>Yes</td>\n",
       "      <td>Yes</td>\n",
       "      <td>Yes</td>\n",
       "      <td>Yes</td>\n",
       "      <td>Yes</td>\n",
       "      <td>No</td>\n",
       "      <td>No</td>\n",
       "      <td>No</td>\n",
       "      <td>No</td>\n",
       "      <td>...</td>\n",
       "      <td>Yes</td>\n",
       "      <td>Yes</td>\n",
       "      <td>No</td>\n",
       "      <td>Yes</td>\n",
       "      <td>No</td>\n",
       "      <td>Yes</td>\n",
       "      <td>Yes</td>\n",
       "      <td>No</td>\n",
       "      <td>No</td>\n",
       "      <td>Yes</td>\n",
       "    </tr>\n",
       "    <tr>\n",
       "      <th>1</th>\n",
       "      <td>2</td>\n",
       "      <td>Yes</td>\n",
       "      <td>Yes</td>\n",
       "      <td>Yes</td>\n",
       "      <td>Yes</td>\n",
       "      <td>No</td>\n",
       "      <td>Yes</td>\n",
       "      <td>Yes</td>\n",
       "      <td>Yes</td>\n",
       "      <td>No</td>\n",
       "      <td>...</td>\n",
       "      <td>Yes</td>\n",
       "      <td>No</td>\n",
       "      <td>No</td>\n",
       "      <td>No</td>\n",
       "      <td>Yes</td>\n",
       "      <td>Yes</td>\n",
       "      <td>No</td>\n",
       "      <td>No</td>\n",
       "      <td>No</td>\n",
       "      <td>Yes</td>\n",
       "    </tr>\n",
       "    <tr>\n",
       "      <th>2</th>\n",
       "      <td>3</td>\n",
       "      <td>Yes</td>\n",
       "      <td>Yes</td>\n",
       "      <td>Yes</td>\n",
       "      <td>Yes</td>\n",
       "      <td>Yes</td>\n",
       "      <td>Yes</td>\n",
       "      <td>Yes</td>\n",
       "      <td>Yes</td>\n",
       "      <td>No</td>\n",
       "      <td>...</td>\n",
       "      <td>Yes</td>\n",
       "      <td>Yes</td>\n",
       "      <td>Yes</td>\n",
       "      <td>No</td>\n",
       "      <td>No</td>\n",
       "      <td>No</td>\n",
       "      <td>No</td>\n",
       "      <td>No</td>\n",
       "      <td>No</td>\n",
       "      <td>Yes</td>\n",
       "    </tr>\n",
       "    <tr>\n",
       "      <th>3</th>\n",
       "      <td>4</td>\n",
       "      <td>Yes</td>\n",
       "      <td>Yes</td>\n",
       "      <td>Yes</td>\n",
       "      <td>No</td>\n",
       "      <td>No</td>\n",
       "      <td>Yes</td>\n",
       "      <td>No</td>\n",
       "      <td>No</td>\n",
       "      <td>Yes</td>\n",
       "      <td>...</td>\n",
       "      <td>No</td>\n",
       "      <td>No</td>\n",
       "      <td>Yes</td>\n",
       "      <td>No</td>\n",
       "      <td>Yes</td>\n",
       "      <td>Yes</td>\n",
       "      <td>No</td>\n",
       "      <td>No</td>\n",
       "      <td>No</td>\n",
       "      <td>Yes</td>\n",
       "    </tr>\n",
       "    <tr>\n",
       "      <th>4</th>\n",
       "      <td>5</td>\n",
       "      <td>Yes</td>\n",
       "      <td>Yes</td>\n",
       "      <td>Yes</td>\n",
       "      <td>Yes</td>\n",
       "      <td>Yes</td>\n",
       "      <td>No</td>\n",
       "      <td>Yes</td>\n",
       "      <td>Yes</td>\n",
       "      <td>Yes</td>\n",
       "      <td>...</td>\n",
       "      <td>No</td>\n",
       "      <td>Yes</td>\n",
       "      <td>No</td>\n",
       "      <td>Yes</td>\n",
       "      <td>No</td>\n",
       "      <td>Yes</td>\n",
       "      <td>No</td>\n",
       "      <td>No</td>\n",
       "      <td>No</td>\n",
       "      <td>Yes</td>\n",
       "    </tr>\n",
       "    <tr>\n",
       "      <th>...</th>\n",
       "      <td>...</td>\n",
       "      <td>...</td>\n",
       "      <td>...</td>\n",
       "      <td>...</td>\n",
       "      <td>...</td>\n",
       "      <td>...</td>\n",
       "      <td>...</td>\n",
       "      <td>...</td>\n",
       "      <td>...</td>\n",
       "      <td>...</td>\n",
       "      <td>...</td>\n",
       "      <td>...</td>\n",
       "      <td>...</td>\n",
       "      <td>...</td>\n",
       "      <td>...</td>\n",
       "      <td>...</td>\n",
       "      <td>...</td>\n",
       "      <td>...</td>\n",
       "      <td>...</td>\n",
       "      <td>...</td>\n",
       "      <td>...</td>\n",
       "    </tr>\n",
       "    <tr>\n",
       "      <th>5429</th>\n",
       "      <td>5430</td>\n",
       "      <td>Yes</td>\n",
       "      <td>Yes</td>\n",
       "      <td>No</td>\n",
       "      <td>Yes</td>\n",
       "      <td>Yes</td>\n",
       "      <td>Yes</td>\n",
       "      <td>Yes</td>\n",
       "      <td>No</td>\n",
       "      <td>No</td>\n",
       "      <td>...</td>\n",
       "      <td>Yes</td>\n",
       "      <td>Yes</td>\n",
       "      <td>No</td>\n",
       "      <td>No</td>\n",
       "      <td>No</td>\n",
       "      <td>No</td>\n",
       "      <td>No</td>\n",
       "      <td>No</td>\n",
       "      <td>No</td>\n",
       "      <td>Yes</td>\n",
       "    </tr>\n",
       "    <tr>\n",
       "      <th>5430</th>\n",
       "      <td>5431</td>\n",
       "      <td>Yes</td>\n",
       "      <td>Yes</td>\n",
       "      <td>Yes</td>\n",
       "      <td>No</td>\n",
       "      <td>Yes</td>\n",
       "      <td>Yes</td>\n",
       "      <td>No</td>\n",
       "      <td>Yes</td>\n",
       "      <td>No</td>\n",
       "      <td>...</td>\n",
       "      <td>Yes</td>\n",
       "      <td>No</td>\n",
       "      <td>No</td>\n",
       "      <td>No</td>\n",
       "      <td>No</td>\n",
       "      <td>No</td>\n",
       "      <td>No</td>\n",
       "      <td>No</td>\n",
       "      <td>No</td>\n",
       "      <td>Yes</td>\n",
       "    </tr>\n",
       "    <tr>\n",
       "      <th>5431</th>\n",
       "      <td>5432</td>\n",
       "      <td>Yes</td>\n",
       "      <td>Yes</td>\n",
       "      <td>Yes</td>\n",
       "      <td>No</td>\n",
       "      <td>No</td>\n",
       "      <td>No</td>\n",
       "      <td>No</td>\n",
       "      <td>No</td>\n",
       "      <td>Yes</td>\n",
       "      <td>...</td>\n",
       "      <td>No</td>\n",
       "      <td>No</td>\n",
       "      <td>No</td>\n",
       "      <td>No</td>\n",
       "      <td>No</td>\n",
       "      <td>No</td>\n",
       "      <td>No</td>\n",
       "      <td>No</td>\n",
       "      <td>No</td>\n",
       "      <td>No</td>\n",
       "    </tr>\n",
       "    <tr>\n",
       "      <th>5432</th>\n",
       "      <td>5433</td>\n",
       "      <td>Yes</td>\n",
       "      <td>Yes</td>\n",
       "      <td>Yes</td>\n",
       "      <td>No</td>\n",
       "      <td>Yes</td>\n",
       "      <td>No</td>\n",
       "      <td>No</td>\n",
       "      <td>Yes</td>\n",
       "      <td>Yes</td>\n",
       "      <td>...</td>\n",
       "      <td>No</td>\n",
       "      <td>No</td>\n",
       "      <td>No</td>\n",
       "      <td>No</td>\n",
       "      <td>No</td>\n",
       "      <td>No</td>\n",
       "      <td>No</td>\n",
       "      <td>No</td>\n",
       "      <td>No</td>\n",
       "      <td>No</td>\n",
       "    </tr>\n",
       "    <tr>\n",
       "      <th>5433</th>\n",
       "      <td>5434</td>\n",
       "      <td>Yes</td>\n",
       "      <td>Yes</td>\n",
       "      <td>Yes</td>\n",
       "      <td>No</td>\n",
       "      <td>Yes</td>\n",
       "      <td>Yes</td>\n",
       "      <td>No</td>\n",
       "      <td>Yes</td>\n",
       "      <td>No</td>\n",
       "      <td>...</td>\n",
       "      <td>Yes</td>\n",
       "      <td>No</td>\n",
       "      <td>No</td>\n",
       "      <td>No</td>\n",
       "      <td>No</td>\n",
       "      <td>No</td>\n",
       "      <td>No</td>\n",
       "      <td>No</td>\n",
       "      <td>No</td>\n",
       "      <td>No</td>\n",
       "    </tr>\n",
       "  </tbody>\n",
       "</table>\n",
       "<p>5434 rows × 22 columns</p>\n",
       "</div>"
      ],
      "text/plain": [
       "        ID Breathing Problem Fever Dry Cough Sore throat Running Nose Asthma  \\\n",
       "0        1               Yes   Yes       Yes         Yes          Yes     No   \n",
       "1        2               Yes   Yes       Yes         Yes           No    Yes   \n",
       "2        3               Yes   Yes       Yes         Yes          Yes    Yes   \n",
       "3        4               Yes   Yes       Yes          No           No    Yes   \n",
       "4        5               Yes   Yes       Yes         Yes          Yes     No   \n",
       "...    ...               ...   ...       ...         ...          ...    ...   \n",
       "5429  5430               Yes   Yes        No         Yes          Yes    Yes   \n",
       "5430  5431               Yes   Yes       Yes          No          Yes    Yes   \n",
       "5431  5432               Yes   Yes       Yes          No           No     No   \n",
       "5432  5433               Yes   Yes       Yes          No          Yes     No   \n",
       "5433  5434               Yes   Yes       Yes          No          Yes    Yes   \n",
       "\n",
       "     Chronic Lung Disease Headache Heart Disease  ... Fatigue   \\\n",
       "0                      No       No            No  ...      Yes   \n",
       "1                     Yes      Yes            No  ...      Yes   \n",
       "2                     Yes      Yes            No  ...      Yes   \n",
       "3                      No       No           Yes  ...       No   \n",
       "4                     Yes      Yes           Yes  ...       No   \n",
       "...                   ...      ...           ...  ...      ...   \n",
       "5429                  Yes       No            No  ...      Yes   \n",
       "5430                   No      Yes            No  ...      Yes   \n",
       "5431                   No       No           Yes  ...       No   \n",
       "5432                   No      Yes           Yes  ...       No   \n",
       "5433                   No      Yes            No  ...      Yes   \n",
       "\n",
       "     Gastrointestinal  Abroad travel Contact with COVID Patient  \\\n",
       "0                  Yes            No                        Yes   \n",
       "1                   No            No                         No   \n",
       "2                  Yes           Yes                         No   \n",
       "3                   No           Yes                         No   \n",
       "4                  Yes            No                        Yes   \n",
       "...                ...           ...                        ...   \n",
       "5429               Yes            No                         No   \n",
       "5430                No            No                         No   \n",
       "5431                No            No                         No   \n",
       "5432                No            No                         No   \n",
       "5433                No            No                         No   \n",
       "\n",
       "     Attended Large Gathering Visited Public Exposed Places  \\\n",
       "0                          No                           Yes   \n",
       "1                         Yes                           Yes   \n",
       "2                          No                            No   \n",
       "3                         Yes                           Yes   \n",
       "4                          No                           Yes   \n",
       "...                       ...                           ...   \n",
       "5429                       No                            No   \n",
       "5430                       No                            No   \n",
       "5431                       No                            No   \n",
       "5432                       No                            No   \n",
       "5433                       No                            No   \n",
       "\n",
       "     Family working in Public Exposed Places Wearing Masks  \\\n",
       "0                                        Yes            No   \n",
       "1                                         No            No   \n",
       "2                                         No            No   \n",
       "3                                         No            No   \n",
       "4                                         No            No   \n",
       "...                                      ...           ...   \n",
       "5429                                      No            No   \n",
       "5430                                      No            No   \n",
       "5431                                      No            No   \n",
       "5432                                      No            No   \n",
       "5433                                      No            No   \n",
       "\n",
       "     Sanitization from Market COVID-19  \n",
       "0                          No      Yes  \n",
       "1                          No      Yes  \n",
       "2                          No      Yes  \n",
       "3                          No      Yes  \n",
       "4                          No      Yes  \n",
       "...                       ...      ...  \n",
       "5429                       No      Yes  \n",
       "5430                       No      Yes  \n",
       "5431                       No       No  \n",
       "5432                       No       No  \n",
       "5433                       No       No  \n",
       "\n",
       "[5434 rows x 22 columns]"
      ]
     },
     "execution_count": 3,
     "metadata": {},
     "output_type": "execute_result"
    }
   ],
   "source": [
    "data"
   ]
  },
  {
   "cell_type": "code",
   "execution_count": 4,
   "id": "0d59ba52",
   "metadata": {},
   "outputs": [
    {
     "data": {
      "text/plain": [
       "ID                                         0\n",
       "Breathing Problem                          0\n",
       "Fever                                      0\n",
       "Dry Cough                                  0\n",
       "Sore throat                                0\n",
       "Running Nose                               0\n",
       "Asthma                                     0\n",
       "Chronic Lung Disease                       0\n",
       "Headache                                   0\n",
       "Heart Disease                              0\n",
       "Diabetes                                   0\n",
       "Hyper Tension                              0\n",
       "Fatigue                                    0\n",
       "Gastrointestinal                           0\n",
       "Abroad travel                              0\n",
       "Contact with COVID Patient                 0\n",
       "Attended Large Gathering                   0\n",
       "Visited Public Exposed Places              0\n",
       "Family working in Public Exposed Places    0\n",
       "Wearing Masks                              0\n",
       "Sanitization from Market                   0\n",
       "COVID-19                                   0\n",
       "dtype: int64"
      ]
     },
     "execution_count": 4,
     "metadata": {},
     "output_type": "execute_result"
    }
   ],
   "source": [
    "#check for missing values\n",
    "data.isna().sum()"
   ]
  },
  {
   "cell_type": "code",
   "execution_count": 5,
   "id": "0bb5bdca",
   "metadata": {},
   "outputs": [],
   "source": [
    "#separte the Features and Target variable\n",
    "X=data.iloc[:,0:21]\n",
    "Y=data.iloc[:,21:22]"
   ]
  },
  {
   "cell_type": "code",
   "execution_count": 6,
   "id": "59228028",
   "metadata": {},
   "outputs": [],
   "source": [
    "#split the dataset into train and test sets\n",
    "x,xtest,y,ytest=train_test_split(X,Y,train_size=0.8)"
   ]
  },
  {
   "cell_type": "markdown",
   "id": "eb4ec8ac",
   "metadata": {},
   "source": [
    "\n",
    "# Exploratory Analysis"
   ]
  },
  {
   "cell_type": "code",
   "execution_count": 7,
   "id": "ec8390a6",
   "metadata": {},
   "outputs": [],
   "source": [
    "def barPerc(df,xVar,ax):\n",
    "    '''\n",
    "    barPerc(): Add percentage for hues to bar plots\n",
    "    args:\n",
    "        df: pandas dataframe\n",
    "        xVar: (string) X variable \n",
    "        ax: Axes object (for Seaborn Countplot/Bar plot or\n",
    "                         pandas bar plot)\n",
    "    '''\n",
    "    # 1. how many X categories\n",
    "    ##   check for NaN and remove\n",
    "    numX=len([x for x in df[xVar].unique() if x==x])\n",
    "\n",
    "    # 2. The bars are created in hue order, organize them\n",
    "    bars = ax.patches\n",
    "    ## 2a. For each X variable\n",
    "    for ind in range(numX):\n",
    "        ## 2b. Get every hue bar\n",
    "        ##     ex. 8 X categories, 4 hues =>\n",
    "        ##    [0, 8, 16, 24] are hue bars for 1st X category\n",
    "        hueBars=bars[ind:][::numX]\n",
    "        ## 2c. Get the total height (for percentages)\n",
    "        total = sum([x.get_height() for x in hueBars])\n",
    "\n",
    "        # 3. Print the percentage on the bars\n",
    "        for bar in hueBars:\n",
    "            ax.text(bar.get_x() + bar.get_width()/2.,\n",
    "                    bar.get_height(),\n",
    "                    f'{bar.get_height()/total:.0%}',\n",
    "                    ha=\"center\",va=\"bottom\")\n"
   ]
  },
  {
   "cell_type": "code",
   "execution_count": 8,
   "id": "60061113",
   "metadata": {},
   "outputs": [
    {
     "data": {
      "image/png": "[encoded data removed]",
      "text/plain": [
       "<Figure size 1512x288 with 4 Axes>"
      ]
     },
     "metadata": {
      "needs_background": "light"
     },
     "output_type": "display_data"
    }
   ],
   "source": [
    "\n",
    "#plt.rcParams.update({'figure.figsize':(7.5,5), 'figure.dpi':100})  \n",
    "fig, axs = plt.subplots(1, 4, figsize=(21, 4))\n",
    "sns.countplot(ax=axs[0],x='Breathing Problem',hue='Dry Cough',data=x)\n",
    "barPerc(x,'Breathing Problem',axs[0])\n",
    "sns.countplot(ax=axs[1],x='Breathing Problem',hue='Sore throat',data=x)\n",
    "barPerc(x,'Breathing Problem',axs[1])\n",
    "sns.countplot(ax=axs[2],x='Breathing Problem',hue='Running Nose',data=x)\n",
    "barPerc(x,'Breathing Problem',axs[2])\n",
    "sns.countplot(ax=axs[3],x='Breathing Problem',hue='Running Nose',data=x)\n",
    "barPerc(x,'Breathing Problem',axs[3])\n",
    "\n"
   ]
  },
  {
   "cell_type": "code",
   "execution_count": 9,
   "id": "78ec46af",
   "metadata": {},
   "outputs": [
    {
     "data": {
      "image/png": "[encoded data removed]",
      "text/plain": [
       "<Figure size 1224x504 with 4 Axes>"
      ]
     },
     "metadata": {
      "needs_background": "light"
     },
     "output_type": "display_data"
    }
   ],
   "source": [
    "fig, axs = plt.subplots(2, 2, figsize=(17, 7))\n",
    "sns.countplot(ax=axs[0][0],x='Chronic Lung Disease',hue='Dry Cough',data=x)\n",
    "barPerc(x,'Chronic Lung Disease',axs[0][0])\n",
    "sns.countplot(ax=axs[0][1],x='Chronic Lung Disease',hue='Breathing Problem',data=x)\n",
    "barPerc(x,'Chronic Lung Disease',axs[0][1])\n",
    "sns.countplot(ax=axs[1][0],x='Chronic Lung Disease',hue='Dry Cough',data=x)\n",
    "barPerc(x,'Chronic Lung Disease',axs[1][0])\n",
    "sns.countplot(ax=axs[1][1],x='Chronic Lung Disease',hue='Sore throat',data=x)\n",
    "barPerc(x,'Chronic Lung Disease',axs[1][1])\n",
    "#sns.countplot(ax=axs[2][0],x='Chronic Lung Disease',hue='Fatigue',data=x)"
   ]
  },
  {
   "cell_type": "code",
   "execution_count": 10,
   "id": "80407b76",
   "metadata": {},
   "outputs": [
    {
     "data": {
      "image/png": "[encoded data removed]",
      "text/plain": [
       "<Figure size 1080x504 with 6 Axes>"
      ]
     },
     "metadata": {
      "needs_background": "light"
     },
     "output_type": "display_data"
    }
   ],
   "source": [
    "fig, axs = plt.subplots(3, 2, figsize=(15, 7))\n",
    "sns.countplot(ax=axs[0][0],x='Asthma',hue='Dry Cough',data=x)\n",
    "barPerc(x,'Asthma',axs[0][0])\n",
    "sns.countplot(ax=axs[0][1],x='Asthma',hue='Breathing Problem',data=x)\n",
    "barPerc(x,'Asthma',axs[0][1])\n",
    "sns.countplot(ax=axs[1][0],x='Asthma',hue='Dry Cough',data=x)\n",
    "barPerc(x,'Asthma',axs[1][0])\n",
    "sns.countplot(ax=axs[1][1],x='Asthma',hue='Sore throat',data=x)\n",
    "barPerc(x,'Asthma',axs[1][1])\n",
    "#sns.countplot(ax=axs[2][0],x='Asthma',hue='Fatigue',data=x)"
   ]
  },
  {
   "cell_type": "code",
   "execution_count": 11,
   "id": "42b8605f",
   "metadata": {},
   "outputs": [
    {
     "data": {
      "image/png": "[encoded data removed]",
      "text/plain": [
       "<Figure size 864x360 with 2 Axes>"
      ]
     },
     "metadata": {
      "needs_background": "light"
     },
     "output_type": "display_data"
    }
   ],
   "source": [
    "fig, axs = plt.subplots(1, 2, figsize=(12, 5))\n",
    "sns.countplot(ax=axs[0],x='Fever',hue='Headache',data=x)\n",
    "barPerc(x,'Fever',axs[0])\n",
    "sns.countplot(ax=axs[1],x='Chronic Lung Disease',hue='Fever',data=x)\n",
    "barPerc(x,'Chronic Lung Disease',axs[1])\n"
   ]
  },
  {
   "cell_type": "code",
   "execution_count": 12,
   "id": "9c13ea6f",
   "metadata": {},
   "outputs": [
    {
     "data": {
      "image/png": "[encoded data removed]",
      "text/plain": [
       "<Figure size 864x360 with 3 Axes>"
      ]
     },
     "metadata": {
      "needs_background": "light"
     },
     "output_type": "display_data"
    }
   ],
   "source": [
    "fig, axs = plt.subplots(1, 3, figsize=(12, 5))\n",
    "sns.countplot(ax=axs[0],x='Heart Disease',hue='Hyper Tension',data=x)\n",
    "barPerc(x,'Heart Disease',axs[0])\n",
    "sns.countplot(ax=axs[1],x='Heart Disease',hue='Fever',data=x)\n",
    "barPerc(x,'Heart Disease',axs[1])\n",
    "\n",
    "#sns.countplot(ax=axs[2],x='Heart Disease',hue='Fatigue',data=x)\n"
   ]
  },
  {
   "cell_type": "code",
   "execution_count": 13,
   "id": "bf477754",
   "metadata": {},
   "outputs": [
    {
     "data": {
      "text/plain": [
       "<matplotlib.legend.Legend at 0x2c0cc2c5280>"
      ]
     },
     "execution_count": 13,
     "metadata": {},
     "output_type": "execute_result"
    },
    {
     "data": {
      "image/png": "[encoded data removed]",
      "text/plain": [
       "<Figure size 1440x360 with 3 Axes>"
      ]
     },
     "metadata": {
      "needs_background": "light"
     },
     "output_type": "display_data"
    }
   ],
   "source": [
    "fig, axs = plt.subplots(1, 3, figsize=(20, 5))\n",
    "sns.countplot(ax=axs[0],x='Abroad travel',hue='Attended Large Gathering',data=x)\n",
    "barPerc(x,'Abroad travel',axs[0])\n",
    "sns.countplot(ax=axs[1],x='Abroad travel',hue='Visited Public Exposed Places',data=x)\n",
    "barPerc(x,'Abroad travel',axs[1])\n",
    "sns.countplot(ax=axs[2],x='Abroad travel',hue='Family working in Public Exposed Places',data=x)\n",
    "barPerc(x,'Abroad travel',axs[2])\n",
    "plt.legend(loc='upper right', title='Family working in Public\\n Exposed Places')\n",
    "\n"
   ]
  },
  {
   "cell_type": "code",
   "execution_count": 14,
   "id": "6f5ed40b",
   "metadata": {},
   "outputs": [
    {
     "name": "stderr",
     "output_type": "stream",
     "text": [
      "No handles with labels found to put in legend.\n"
     ]
    },
    {
     "data": {
      "image/png": "[encoded data removed]",
      "text/plain": [
       "<Figure size 1080x720 with 4 Axes>"
      ]
     },
     "metadata": {
      "needs_background": "light"
     },
     "output_type": "display_data"
    }
   ],
   "source": [
    "fig, axs = plt.subplots(2, 2, figsize=(15, 10))\n",
    "sns.countplot(ax=axs[0][0],x='Contact with COVID Patient',hue='Attended Large Gathering',data=x)\n",
    "barPerc(x,'Contact with COVID Patient',axs[0][0])\n",
    "sns.countplot(ax=axs[0][1],x='Contact with COVID Patient',hue='Visited Public Exposed Places',data=x)\n",
    "barPerc(x,'Contact with COVID Patient',axs[0][1])\n",
    "sns.countplot(ax=axs[1][0],x='Contact with COVID Patient',hue='Family working in Public Exposed Places',data=x)\n",
    "barPerc(x,'Contact with COVID Patient',axs[1][0])\n",
    "plt.legend(loc='upper left', title='Family working in Public\\n Exposed Places')\n",
    "sns.countplot(ax=axs[1][1],x='Contact with COVID Patient',hue='Family working in Public Exposed Places',data=x)\n",
    "barPerc(x,'Contact with COVID Patient',axs[1][1])"
   ]
  },
  {
   "cell_type": "code",
   "execution_count": null,
   "id": "d76ed796",
   "metadata": {},
   "outputs": [
    {
     "data": {
      "text/plain": [
       "<AxesSubplot:xlabel='Contact with COVID Patient', ylabel='count'>"
      ]
     },
     "execution_count": 15,
     "metadata": {},
     "output_type": "execute_result"
    },
    {
     "data": {
      "image/png": "[encoded data removed]",
      "text/plain": [
       "<Figure size 1440x360 with 2 Axes>"
      ]
     },
     "metadata": {
      "needs_background": "light"
     },
     "output_type": "display_data"
    }
   ],
   "source": [
    "fig, axs = plt.subplots(1, 2, figsize=(20, 5))\n",
    "sns.countplot(ax=axs[0],x='Contact with COVID Patient',hue='Wearing Masks',data=x)\n",
    "sns.countplot(ax=axs[1],x='Contact with COVID Patient',hue='Sanitization from Market',data=x)"
   ]
  },
  {
   "cell_type": "code",
   "execution_count": null,
   "id": "aa714a91",
   "metadata": {},
   "outputs": [],
   "source": [
    "#compine x and y for further analysis\n",
    "x['covid']=y"
   ]
  },
  {
   "cell_type": "code",
   "execution_count": null,
   "id": "b76e41a7",
   "metadata": {},
   "outputs": [],
   "source": [
    "fig, axs = plt.subplots(1, 3, figsize=(20, 5))\n",
    "sns.countplot(ax=axs[0],x='covid',hue='Breathing Problem',data=x)\n",
    "barPerc(x,'covid',axs[0])\n",
    "sns.countplot(ax=axs[1],x='covid',hue='Asthma',data=x) \n",
    "barPerc(x,'covid',axs[1])\n",
    "sns.countplot(ax=axs[2],x='covid',hue='Headache',data=x)\n",
    "barPerc(x,'covid',axs[2])\n"
   ]
  },
  {
   "cell_type": "code",
   "execution_count": null,
   "id": "2fab1b3e",
   "metadata": {},
   "outputs": [],
   "source": [
    "fig, axs = plt.subplots(1, 2, figsize=(20, 5))\n",
    "temp=x[x['covid']=='Yes']\n",
    "sns.countplot(ax=axs[0],x='Chronic Lung Disease',hue='Breathing Problem',data=temp)\n",
    "axs[0].title.set_text('COVID Positive')\n",
    "barPerc(x,'Chronic Lung Disease',axs[0])\n",
    "temp=x[x['covid']=='No']\n",
    "sns.countplot(ax=axs[1],x='Chronic Lung Disease',hue='Breathing Problem',data=temp)\n",
    "axs[1].title.set_text('COVID Negative')\n",
    "barPerc(x,'Chronic Lung Disease',axs[1])\n"
   ]
  },
  {
   "cell_type": "code",
   "execution_count": null,
   "id": "6c0b5f3f",
   "metadata": {},
   "outputs": [],
   "source": [
    "fig, axs = plt.subplots(1, 2, figsize=(20, 5))\n",
    "temp=x[x['covid']=='Yes']\n",
    "sns.countplot(ax=axs[0],x='Chronic Lung Disease',hue='Asthma',data=temp)\n",
    "axs[0].title.set_text('COVID Positive')\n",
    "barPerc(x,'Chronic Lung Disease',axs[0])\n",
    "\n",
    "temp=x[x['covid']=='No']\n",
    "sns.countplot(ax=axs[1],x='Chronic Lung Disease',hue='Asthma',data=temp)\n",
    "axs[1].title.set_text('COVID Negative')\n",
    "barPerc(x,'Chronic Lung Disease',axs[1])\n"
   ]
  },
  {
   "cell_type": "code",
   "execution_count": null,
   "id": "a0c2a22d",
   "metadata": {},
   "outputs": [],
   "source": [
    "fig, axs = plt.subplots(1, 2, figsize=(20, 5))\n",
    "temp=x[x['covid']=='Yes']\n",
    "sns.countplot(ax=axs[0],x='Chronic Lung Disease',hue='Dry Cough',data=temp)\n",
    "axs[0].title.set_text('COVID Positive')\n",
    "barPerc(x,'Chronic Lung Disease',axs[0])\n",
    "\n",
    "temp=x[x['covid']=='No']\n",
    "sns.countplot(ax=axs[1],x='Chronic Lung Disease',hue='Dry Cough',data=temp)\n",
    "axs[1].title.set_text('COVID Negative')\n",
    "barPerc(x,'Chronic Lung Disease',axs[1])\n"
   ]
  },
  {
   "cell_type": "code",
   "execution_count": null,
   "id": "ea14ebac",
   "metadata": {},
   "outputs": [],
   "source": [
    "fig, axs = plt.subplots(1, 2, figsize=(20, 5))\n",
    "temp=x[x['covid']=='Yes']\n",
    "sns.countplot(ax=axs[0],x='Heart Disease',hue='Breathing Problem',data=temp)\n",
    "barPerc(x,'Heart Disease',axs[0])\n",
    "\n",
    "axs[0].title.set_text('COVID Positive')\n",
    "temp=x[x['covid']=='No']\n",
    "sns.countplot(ax=axs[1],x='Heart Disease',hue='Breathing Problem',data=temp)\n",
    "axs[1].title.set_text('COVID Negative')\n",
    "barPerc(x,'Heart Disease',axs[1])\n"
   ]
  },
  {
   "cell_type": "code",
   "execution_count": null,
   "id": "d0ca2953",
   "metadata": {},
   "outputs": [],
   "source": [
    "fig, axs = plt.subplots(1, 2, figsize=(20, 5))\n",
    "temp=x[x['covid']=='Yes']\n",
    "sns.countplot(ax=axs[0],x='Heart Disease',hue='Asthma',data=temp)\n",
    "axs[0].title.set_text('COVID Positive')\n",
    "barPerc(x,'Heart Disease',axs[0])\n",
    "\n",
    "temp=x[x['covid']=='No']\n",
    "sns.countplot(ax=axs[1],x='Heart Disease',hue='Asthma',data=temp)\n",
    "axs[1].title.set_text('COVID Negative')\n",
    "barPerc(x,'Heart Disease',axs[1])\n"
   ]
  },
  {
   "cell_type": "code",
   "execution_count": null,
   "id": "9e0209d5",
   "metadata": {},
   "outputs": [],
   "source": [
    "#meaningless\n",
    "fig, axs = plt.subplots(1, 2, figsize=(20, 5))\n",
    "temp=x[x['covid']=='Yes']\n",
    "sns.countplot(ax=axs[0],x='Attended Large Gathering',hue='Wearing Masks',data=temp)\n",
    "axs[0].title.set_text('COVID Positive')\n",
    "temp=x[x['covid']=='No']\n",
    "sns.countplot(ax=axs[1],x='Attended Large Gathering',hue='Wearing Masks',data=temp)\n",
    "axs[1].title.set_text('COVID Negative')\n"
   ]
  },
  {
   "cell_type": "code",
   "execution_count": null,
   "id": "603caea0",
   "metadata": {},
   "outputs": [],
   "source": [
    "fig, axs = plt.subplots(1, 2, figsize=(20, 5))\n",
    "temp=x[x['covid']=='Yes']\n",
    "sns.countplot(ax=axs[0],x='Attended Large Gathering',hue='Visited Public Exposed Places',data=temp)\n",
    "axs[0].title.set_text('COVID Positive')\n",
    "barPerc(x,'Attended Large Gathering',axs[0])\n",
    "\n",
    "temp=x[x['covid']=='No']\n",
    "sns.countplot(ax=axs[1],x='Attended Large Gathering',hue='Visited Public Exposed Places',data=temp)\n",
    "axs[1].title.set_text('COVID Negative')\n",
    "barPerc(x,'Attended Large Gathering',axs[1])\n"
   ]
  },
  {
   "cell_type": "code",
   "execution_count": null,
   "id": "fec5a3f5",
   "metadata": {},
   "outputs": [],
   "source": [
    "fig, axs = plt.subplots(1, 2, figsize=(20, 5))\n",
    "temp=x[x['covid']=='Yes']\n",
    "sns.countplot(ax=axs[0],x='Attended Large Gathering',hue='Family working in Public Exposed Places',data=temp)\n",
    "axs[0].title.set_text('COVID Positive')\n",
    "barPerc(x,'Attended Large Gathering',axs[0])\n",
    "\n",
    "temp=x[x['covid']=='No']\n",
    "sns.countplot(ax=axs[1],x='Attended Large Gathering',hue='Family working in Public Exposed Places',data=temp)\n",
    "axs[1].title.set_text('COVID Negative')\n",
    "barPerc(x,'Attended Large Gathering',axs[1])"
   ]
  },
  {
   "cell_type": "code",
   "execution_count": null,
   "id": "918eb614",
   "metadata": {},
   "outputs": [],
   "source": [
    "fig, axs = plt.subplots(1, 1, figsize=(20, 5))\n",
    "sns.countplot(x='covid',hue='Contact with COVID Patient',data=x)\n",
    "barPerc(x,'covid',axs)\n",
    "#can observe the airborn nature"
   ]
  },
  {
   "cell_type": "code",
   "execution_count": null,
   "id": "b922bcfc",
   "metadata": {},
   "outputs": [],
   "source": [
    "fig, axs = plt.subplots(1, 1, figsize=(20, 5))\n",
    "sns.countplot(x='covid',hue='Abroad travel',data=x)\n",
    "barPerc(x,'covid',axs)\n"
   ]
  },
  {
   "cell_type": "code",
   "execution_count": null,
   "id": "daac7eb8",
   "metadata": {},
   "outputs": [],
   "source": [
    "fig, axs = plt.subplots(1, 2, figsize=(20, 5))\n",
    "temp=x[x['covid']=='Yes']\n",
    "sns.countplot(ax=axs[0],x='Abroad travel',hue='Attended Large Gathering',data=temp)\n",
    "axs[0].title.set_text('COVID Positive')\n",
    "barPerc(x,'Abroad travel',axs[0])\n",
    "\n",
    "temp=x[x['covid']=='No']\n",
    "sns.countplot(ax=axs[1],x='Abroad travel',hue='Attended Large Gathering',data=temp)\n",
    "axs[1].title.set_text('COVID Negative')\n",
    "barPerc(x,'Abroad travel',axs[1])\n"
   ]
  },
  {
   "cell_type": "code",
   "execution_count": null,
   "id": "3825b0de",
   "metadata": {},
   "outputs": [],
   "source": [
    "fig, axs = plt.subplots(1, 2, figsize=(20, 5))\n",
    "temp=x[x['covid']=='Yes']\n",
    "sns.countplot(ax=axs[0],x='Abroad travel',hue='Visited Public Exposed Places',data=temp)\n",
    "axs[0].title.set_text('COVID Positive')\n",
    "barPerc(x,'Abroad travel',axs[0])\n",
    "\n",
    "temp=x[x['covid']=='No']\n",
    "sns.countplot(ax=axs[1],x='Abroad travel',hue='Visited Public Exposed Places',data=temp)\n",
    "axs[1].title.set_text('COVID Negative')\n",
    "barPerc(x,'Abroad travel',axs[1])\n"
   ]
  },
  {
   "cell_type": "markdown",
   "id": "025ccbc4",
   "metadata": {},
   "source": [
    "# chi square tests to evalute the correlation\n",
    "\n",
    "Let H0: There is no Relationship between two variables (Two variables are independent)\n",
    "\n",
    "    H1: There is a Relationship between two variables (Two variables are not independent)\n"
   ]
  },
  {
   "cell_type": "code",
   "execution_count": null,
   "id": "186661e7",
   "metadata": {},
   "outputs": [],
   "source": [
    "#encode values\n",
    "dic={'Yes':1,'No':0}\n",
    "for i in x.columns:\n",
    "    x[i].replace(dic,inplace=True)\n",
    "for i in xtest.columns:\n",
    "    xtest[i].replace(dic,inplace=True)\n",
    "for i in ytest:\n",
    "    ytest[i].replace(dic,inplace=True)"
   ]
  },
  {
   "cell_type": "code",
   "execution_count": null,
   "id": "69e7c49f",
   "metadata": {},
   "outputs": [],
   "source": [
    "#remove covid and ID from datafram\n",
    "y=x['covid']\n",
    "x.drop(['covid'],inplace=True,axis=1)\n",
    "x.drop(['ID'],inplace=True,axis=1)\n",
    "xtest.drop(['ID'],inplace=True,axis=1)"
   ]
  },
  {
   "cell_type": "code",
   "execution_count": null,
   "id": "edce3d62",
   "metadata": {},
   "outputs": [],
   "source": [
    "from scipy.stats import chi2_contingency\n",
    "colnames=x.columns\n",
    "for i in colnames:\n",
    "    contingency=pd.crosstab(x[i],y)\n",
    "    print('Contingency table for Covid and ',i)\n",
    "    print(contingency)\n",
    "    stat,p,dof,expected=chi2_contingency(contingency)\n",
    "    alpha=0.05\n",
    "    if p<= alpha:\n",
    "        print('Covid and ',i,' are related')\n",
    "        \n",
    "    else:\n",
    "        print('Covid and ',i,' are not  related')\n",
    "    print(\"########################################3\")\n",
    "    \n",
    "    "
   ]
  },
  {
   "cell_type": "code",
   "execution_count": null,
   "id": "d819a6b4",
   "metadata": {},
   "outputs": [],
   "source": [
    "from sklearn.feature_selection import chi2\n",
    "\n",
    "xtemp=x.iloc[:,0:18]\n",
    "resultant = pd.DataFrame(data=[(0 for i in range(len(xtemp.columns))) for i in range(len(xtemp.columns))], \n",
    "                         columns=list(xtemp.columns))\n",
    "resultant.set_index(pd.Index(list(xtemp.columns)), inplace = True)"
   ]
  },
  {
   "cell_type": "code",
   "execution_count": null,
   "id": "1e680463",
   "metadata": {},
   "outputs": [],
   "source": [
    "import numpy as np\n",
    "\n",
    "for i in list(xtemp.columns):\n",
    "    for j in list(xtemp.columns):\n",
    "        if i != j:\n",
    "            chi2_val, p_val = chi2(np.array(xtemp[i]).reshape(-1, 1), np.array(xtemp[j]).reshape(-1, 1))\n",
    "            resultant.loc[i,j] = p_val\n",
    "print(resultant)"
   ]
  },
  {
   "cell_type": "code",
   "execution_count": null,
   "id": "0ead1bce",
   "metadata": {},
   "outputs": [],
   "source": [
    "fig = plt.figure(figsize=(20,20))\n",
    "sns.heatmap(resultant, annot=True, cmap='Blues')\n",
    "plt.title('Chi-Square Test Results')\n",
    "plt.show()"
   ]
  },
  {
   "cell_type": "code",
   "execution_count": null,
   "id": "ffe472fa",
   "metadata": {},
   "outputs": [],
   "source": [
    "resultant[resultant<0.05]"
   ]
  },
  {
   "cell_type": "markdown",
   "id": "0d2968cf",
   "metadata": {},
   "source": [
    "Breathing problem has a relation between Fever, Dry Cough ,Sore throat,\tRunning Nose,\tAsthma,\tChronic Lung Disease,\tHeadache,\tHeart Disease,\tDiabetes,\tHyper Tension,\tGastrointestinal,\tAbroad travel,\tContact with COVID Patient,\tAttended Large Gathering,\tVisited Public Exposed Places"
   ]
  },
  {
   "cell_type": "markdown",
   "id": "a41db29d",
   "metadata": {},
   "source": [
    "# Modeling"
   ]
  },
  {
   "cell_type": "code",
   "execution_count": null,
   "id": "454f889f",
   "metadata": {},
   "outputs": [],
   "source": [
    "#SVM\n",
    "from sklearn import svm\n",
    "from sklearn.metrics import accuracy_score\n",
    "from sklearn.metrics import confusion_matrix\n",
    "from sklearn.metrics import plot_confusion_matrix\n",
    "from sklearn.metrics import classification_report \n",
    "\n",
    "svmClfr=svm.SVC().fit(x,y)\n",
    "svmPred=svmClfr.predict(xtest)\n",
    "svmAcc=accuracy_score(ytest,svmPred)\n",
    "conmat = confusion_matrix(ytest, svmPred)\n",
    "disp = plot_confusion_matrix(svmClfr, xtest, ytest,cmap=plt.cm.Blues)\n",
    "disp.ax_.set_title('Confusion Matrix for SVM Classifier')\n",
    "print(\"Accuracy of SVM \")\n",
    "print(classification_report(ytest, svmPred))\n",
    "print(\"Class wise Accuracy \")\n",
    "print(\"Class 0 \",(conmat[0][0])/(conmat[0][0]+conmat[0][1]))\n",
    "print(\"Class 1 \",(conmat[1][1])/(conmat[1][0]+conmat[1][1]))"
   ]
  },
  {
   "cell_type": "code",
   "execution_count": null,
   "id": "152cce3a",
   "metadata": {},
   "outputs": [],
   "source": [
    "#RF\n",
    "from sklearn.ensemble import RandomForestClassifier\n",
    "\n",
    "rfClfr=RandomForestClassifier().fit(x,y)\n",
    "rfPred=rfClfr.predict(xtest)\n",
    "rfAcc=accuracy_score(ytest,rfPred)\n",
    "conmat = confusion_matrix(ytest, rfPred)\n",
    "disp = plot_confusion_matrix(rfClfr, xtest, ytest,cmap=plt.cm.Blues)\n",
    "disp.ax_.set_title('Confusion Matrix for RF Classifier')\n",
    "print(\"Accuracy of RF \")\n",
    "print(classification_report(ytest, rfPred))\n",
    "print(\"Class wise Accuracy \")\n",
    "print(\"Class 0 \",(conmat[0][0])/(conmat[0][0]+conmat[0][1]))\n",
    "print(\"Class 1 \",(conmat[1][1])/(conmat[1][0]+conmat[1][1]))"
   ]
  },
  {
   "cell_type": "code",
   "execution_count": null,
   "id": "fba969ce",
   "metadata": {},
   "outputs": [],
   "source": [
    "#ANN\n",
    "from numpy import loadtxt\n",
    "from keras.models import Sequential\n",
    "from keras.layers import Dense\n",
    "\n",
    "annx=x.to_numpy()\n",
    "annxtest=xtest.to_numpy()\n",
    "anny=y.to_numpy()\n",
    "annytest=ytest.to_numpy()\n",
    "model = Sequential()\n",
    "model.add(Dense(22, input_dim=20, activation='relu'))\n",
    "model.add(Dense(11, activation='relu'))\n",
    "model.add(Dense(1, activation='sigmoid'))\n",
    "model.compile(loss='binary_crossentropy', optimizer='adam', metrics=['accuracy'])\n",
    "model.fit(annx, anny, epochs=150, batch_size=10)\n",
    "_, accuracy = model.evaluate(annxtest, annytest)\n",
    "print('Accuracy: %.2f' % (accuracy*100))"
   ]
  },
  {
   "cell_type": "code",
   "execution_count": null,
   "id": "d1b8f0e4",
   "metadata": {},
   "outputs": [],
   "source": [
    "#visualize ann\n",
    "from ann_visualizer.visualize import ann_viz;\n",
    "\n",
    "ann_viz(model, view=True, title=\"My first neural network\")"
   ]
  },
  {
   "cell_type": "code",
   "execution_count": null,
   "id": "f017dbfc",
   "metadata": {},
   "outputs": [],
   "source": [
    "#XGB\n",
    "import xgboost as xgb\n",
    "xgbClfr=xgb.XGBClassifier().fit(x,y)\n",
    "xgbPred=xgbClfr.predict(xtest)\n",
    "xgbAcc=accuracy_score(ytest,xgbPred)\n",
    "conmat = confusion_matrix(ytest, xgbPred)\n",
    "disp = plot_confusion_matrix(xgbClfr, xtest, ytest,cmap=plt.cm.Blues)\n",
    "disp.ax_.set_title('Confusion Matrix for XGB Classifier')\n",
    "print(\"Accuracy of XGB \")\n",
    "print(classification_report(ytest, xgbPred))\n",
    "print(\"Class wise Accuracy \")\n",
    "print(\"Class 0 \",(conmat[0][0])/(conmat[0][0]+conmat[0][1]))\n",
    "print(\"Class 1 \",(conmat[1][1])/(conmat[1][0]+conmat[1][1]))"
   ]
  },
  {
   "cell_type": "code",
   "execution_count": null,
   "id": "d8335d6d",
   "metadata": {
    "scrolled": true
   },
   "outputs": [],
   "source": [
    "xgb.plot_tree(xgbClfr,num_trees=0)\n",
    "plt.rcParams['figure.figsize'] = [500, 500]\n",
    "plt.show()"
   ]
  },
  {
   "cell_type": "code",
   "execution_count": null,
   "id": "e5806694",
   "metadata": {},
   "outputs": [],
   "source": [
    "xgb.plot_importance(xgbClfr)\n",
    "plt.rcParams['figure.figsize'] = [5, 5]\n",
    "plt.show()"
   ]
  },
  {
   "cell_type": "code",
   "execution_count": null,
   "id": "16ead08f",
   "metadata": {},
   "outputs": [],
   "source": [
    "#reduce variables based on variable selection\n",
    "xnew=x[['Sore throat','Dry Cough','Contact with COVID Patient','Hyper Tension','Breathing Problem','Fever','Heart Disease','Visited Public Exposed Places',\n",
    "      'Diabetes','Asthma','Running Nose','Headache']]\n",
    "xnewtest=xtest[['Sore throat','Dry Cough','Contact with COVID Patient','Hyper Tension','Breathing Problem','Fever','Heart Disease','Visited Public Exposed Places',\n",
    "      'Diabetes','Asthma','Running Nose','Headache']]\n"
   ]
  },
  {
   "cell_type": "code",
   "execution_count": null,
   "id": "b7239cdf",
   "metadata": {},
   "outputs": [],
   "source": [
    "xgbClfr=xgb.XGBClassifier().fit(xnew,y)\n",
    "xgbPred=xgbClfr.predict(xnewtest)\n",
    "xgbAcc=accuracy_score(ytest,xgbPred)\n",
    "conmat = confusion_matrix(ytest, xgbPred)\n",
    "disp = plot_confusion_matrix(xgbClfr, xnewtest, ytest,cmap=plt.cm.Blues)\n",
    "disp.ax_.set_title('Confusion Matrix for XGB Classifier')\n",
    "print(\"Accuracy of XGB \")\n",
    "print(classification_report(ytest, xgbPred))\n",
    "print(\"Class wise Accuracy \")\n",
    "print(\"Class 0 \",(conmat[0][0])/(conmat[0][0]+conmat[0][1]))\n",
    "print(\"Class 1 \",(conmat[1][1])/(conmat[1][0]+conmat[1][1]))"
   ]
  },
  {
   "cell_type": "code",
   "execution_count": null,
   "id": "f7919daa",
   "metadata": {},
   "outputs": [],
   "source": [
    "from sklearn.decomposition import PCA\n",
    "\n",
    "datapca=x.iloc[:,0:18]\n",
    "pca = PCA(n_components=3)\n",
    "pca_result = pca.fit_transform(datapca[datapca.columns].values)\n",
    "datapca['pca-one'] = pca_result[:,0]\n",
    "datapca['pca-two'] = pca_result[:,1] \n",
    "datapca['pca-three'] = pca_result[:,2]\n",
    "print('Explained variation per principal component: {}'.format(pca.explained_variance_ratio_))"
   ]
  },
  {
   "cell_type": "code",
   "execution_count": null,
   "id": "4a22c92a",
   "metadata": {},
   "outputs": [],
   "source": [
    "pcaData = pd.DataFrame(data = pca_result\n",
    "             , columns = ['principal component 1', 'principal component 2','principal component 3'])\n"
   ]
  },
  {
   "cell_type": "code",
   "execution_count": null,
   "id": "cd09bd24",
   "metadata": {},
   "outputs": [],
   "source": [
    "pcadataf=datapca.iloc[:,0:17]\n",
    "pcadf=pd.DataFrame(data=[[np.corrcoef(pcadataf[c],pca_result[:,n])[1,0] \n",
    "               for n in range(pca.n_components_)] for c in pcadataf],\n",
    "             columns=[1,2,3],\n",
    "             index = pcadataf.columns)\n",
    "pcadf"
   ]
  },
  {
   "cell_type": "code",
   "execution_count": null,
   "id": "4cadd1d6",
   "metadata": {},
   "outputs": [],
   "source": [
    "pca1=[]\n",
    "pca2=[]\n",
    "pca3=[]\n",
    "for i in pcadf.index:\n",
    "    if abs(pcadf[1][i]) >=0.5:\n",
    "        pca1.append(i)\n",
    "    if abs(pcadf[2][i]) >=0.5:\n",
    "        pca2.append(i)\n",
    "    if abs(pcadf[3][i]) >=0.5:\n",
    "        pca3.append(i)\n",
    "        \n"
   ]
  },
  {
   "cell_type": "code",
   "execution_count": null,
   "id": "81953c05",
   "metadata": {},
   "outputs": [],
   "source": [
    "print('Variables highle correlated with PCA1 are ,')\n",
    "for j in pca1:\n",
    "    print(j)"
   ]
  },
  {
   "cell_type": "code",
   "execution_count": null,
   "id": "665c5dcb",
   "metadata": {},
   "outputs": [],
   "source": [
    "print('Variables highle correlated with PCA2 are ,')\n",
    "for j in pca2:\n",
    "    print(j)"
   ]
  },
  {
   "cell_type": "code",
   "execution_count": null,
   "id": "1009af08",
   "metadata": {},
   "outputs": [],
   "source": [
    "print('Variables highle correlated with PCA3 are ,')\n",
    "for j in pca3:\n",
    "    print(j)"
   ]
  },
  {
   "cell_type": "code",
   "execution_count": null,
   "id": "dc1ef6a4",
   "metadata": {},
   "outputs": [],
   "source": [
    "x['covid']=y\n",
    "plt.figure(figsize=(16,10))\n",
    "sns.scatterplot(\n",
    "    x=\"pca-one\", y=\"pca-two\",\n",
    "    hue=\"covid\",\n",
    "    palette=sns.color_palette(\"tab10\", 2),\n",
    "    data=x,\n",
    "    legend=\"full\",\n",
    "    alpha=0.3\n",
    ")"
   ]
  },
  {
   "cell_type": "code",
   "execution_count": null,
   "id": "bc9dea69",
   "metadata": {},
   "outputs": [],
   "source": [
    "ax = plt.figure(figsize=(16,10)).gca(projection='3d')\n",
    "ax.scatter(\n",
    "    xs=x.iloc[:][\"pca-one\"], \n",
    "    ys=x.iloc[:][\"pca-two\"], \n",
    "    zs=x.iloc[:][\"pca-three\"], \n",
    "    c=x.iloc[:][\"covid\"], \n",
    "    cmap='tab10'\n",
    ")\n",
    "ax.set_xlabel('pca-one')\n",
    "ax.set_ylabel('pca-two')\n",
    "ax.set_zlabel('pca-three')\n",
    "plt.show()"
   ]
  },
  {
   "cell_type": "markdown",
   "id": "ae8c288e",
   "metadata": {},
   "source": [
    "# Apply Apriori Algorithm to discover assocaition Rules"
   ]
  },
  {
   "cell_type": "code",
   "execution_count": null,
   "id": "f1edfe7b",
   "metadata": {},
   "outputs": [],
   "source": [
    "\n",
    "from mlxtend.frequent_patterns import apriori\n",
    "\n",
    "frequent_itemsets_ap = apriori(x.iloc[:,1:20], min_support=0.01, use_colnames=True)"
   ]
  },
  {
   "cell_type": "code",
   "execution_count": null,
   "id": "553797d9",
   "metadata": {},
   "outputs": [],
   "source": [
    "print(frequent_itemsets_ap)"
   ]
  },
  {
   "cell_type": "code",
   "execution_count": null,
   "id": "65014ed9",
   "metadata": {},
   "outputs": [],
   "source": [
    "frequent_itemsets_ap=frequent_itemsets_ap[frequent_itemsets_ap['support']>0.1]"
   ]
  },
  {
   "cell_type": "code",
   "execution_count": null,
   "id": "877a386a",
   "metadata": {},
   "outputs": [],
   "source": [
    "from mlxtend.frequent_patterns import association_rules\n",
    "\n",
    "rules_ap = association_rules(frequent_itemsets_ap, metric=\"confidence\", min_threshold=0.8)\n",
    "print(rules_ap)"
   ]
  },
  {
   "cell_type": "code",
   "execution_count": null,
   "id": "3f480fcb",
   "metadata": {},
   "outputs": [],
   "source": [
    "rules_ap.head()"
   ]
  },
  {
   "cell_type": "code",
   "execution_count": null,
   "id": "20f5db59",
   "metadata": {},
   "outputs": [],
   "source": []
  }
 ],
 "metadata": {
  "kernelspec": {
   "display_name": "Python 3",
   "language": "python",
   "name": "python3"
  },
  "language_info": {
   "codemirror_mode": {
    "name": "ipython",
    "version": 3
   },
   "file_extension": ".py",
   "mimetype": "text/x-python",
   "name": "python",
   "nbconvert_exporter": "python",
   "pygments_lexer": "ipython3",
   "version": "3.8.8"
  }
 },
 "nbformat": 4,
 "nbformat_minor": 5
}
